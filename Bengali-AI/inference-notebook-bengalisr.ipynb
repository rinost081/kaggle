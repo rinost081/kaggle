{
 "cells": [
  {
   "cell_type": "markdown",
   "id": "a0eef63d",
   "metadata": {
    "papermill": {
     "duration": 0.003502,
     "end_time": "2023-10-13T14:57:44.907717",
     "exception": false,
     "start_time": "2023-10-13T14:57:44.904215",
     "status": "completed"
    },
    "tags": []
   },
   "source": [
    "参考にしたノートブックはSUJAY KAPADNISのノートブック(https://www.kaggle.com/code/sujaykapadnis/bengali-speech-recognition-for-everyone )、推論部分だけ抜き出してEDAの部分はスキップした。\n",
    "\n",
    "これはINPUTに学習済みモデルを入れた状態で行う推論から提出のコードのためファインチューニングを行いたいという場合は別のノートブックを作っているのでそちらを参考に\n",
    "\n",
    "notebook by SUJAY KAPADNIS(https://www.kaggle.com/code/sujaykapadnis/bengali-speech-recognition-for-everyone ) is the reference of this notebook. I used this reference especially inference part, which means I skipped EDA part."
   ]
  },
  {
   "cell_type": "code",
   "execution_count": 1,
   "id": "98b40a3e",
   "metadata": {
    "execution": {
     "iopub.execute_input": "2023-10-13T14:57:44.915940Z",
     "iopub.status.busy": "2023-10-13T14:57:44.915579Z",
     "iopub.status.idle": "2023-10-13T14:58:49.259164Z",
     "shell.execute_reply": "2023-10-13T14:58:49.258014Z"
    },
    "papermill": {
     "duration": 64.350057,
     "end_time": "2023-10-13T14:58:49.261351",
     "exception": false,
     "start_time": "2023-10-13T14:57:44.911294",
     "status": "completed"
    },
    "tags": []
   },
   "outputs": [
    {
     "name": "stdout",
     "output_type": "stream",
     "text": [
      "jiwer/\r\n",
      "jiwer/jiwer-2.3.0-py3-none-any.whl\r\n",
      "jiwer/python-Levenshtein-0.12.2.tar.gz\r\n",
      "jiwer/setuptools-65.3.0-py3-none-any.whl\r\n",
      "Looking in links: ./\r\n",
      "Processing ./jiwer/jiwer-2.3.0-py3-none-any.whl\r\n",
      "INFO: pip is looking at multiple versions of jiwer to determine which version is compatible with other requirements. This could take a while.\r\n",
      "\u001b[31mERROR: Could not find a version that satisfies the requirement python-Levenshtein==0.12.2 (from jiwer) (from versions: none)\u001b[0m\u001b[31m\r\n",
      "\u001b[0m\u001b[31mERROR: No matching distribution found for python-Levenshtein==0.12.2\u001b[0m\u001b[31m\r\n",
      "\u001b[0mnormalizer/\r\n",
      "normalizer/bnunicodenormalizer-0.0.24.tar.gz\r\n",
      "Looking in links: ./\r\n",
      "Processing ./normalizer/bnunicodenormalizer-0.0.24.tar.gz\r\n",
      "  Preparing metadata (setup.py) ... \u001b[?25ldone\r\n",
      "\u001b[?25hBuilding wheels for collected packages: bnunicodenormalizer\r\n",
      "  Building wheel for bnunicodenormalizer (setup.py) ... \u001b[?25l-\b \bdone\r\n",
      "\u001b[?25h  Created wheel for bnunicodenormalizer: filename=bnunicodenormalizer-0.0.24-py3-none-any.whl size=17609 sha256=55e37ded2b1a79215e1c89fcc630ba8847bd64064e89d91540a8a5e868e993dc\r\n",
      "  Stored in directory: /root/.cache/pip/wheels/78/d7/75/6986dc3616718f950b80e3bd79a796ef618eaef6cd800e7909\r\n",
      "Successfully built bnunicodenormalizer\r\n",
      "Installing collected packages: bnunicodenormalizer\r\n",
      "Successfully installed bnunicodenormalizer-0.0.24\r\n",
      "pyctcdecode/\r\n",
      "pyctcdecode/hypothesis-6.54.4-py3-none-any.whl\r\n",
      "pyctcdecode/sortedcontainers-2.4.0-py2.py3-none-any.whl\r\n",
      "pyctcdecode/exceptiongroup-1.0.0rc9-py3-none-any.whl\r\n",
      "pyctcdecode/pyctcdecode-0.4.0-py2.py3-none-any.whl\r\n",
      "pyctcdecode/numpy-1.21.6-cp37-cp37m-manylinux_2_12_x86_64.manylinux2010_x86_64.whl\r\n",
      "pyctcdecode/attrs-22.1.0-py2.py3-none-any.whl\r\n",
      "pyctcdecode/pygtrie-2.5.0.tar.gz\r\n",
      "Looking in links: ./\r\n",
      "Processing ./pyctcdecode/attrs-22.1.0-py2.py3-none-any.whl\r\n",
      "Installing collected packages: attrs\r\n",
      "  Attempting uninstall: attrs\r\n",
      "    Found existing installation: attrs 23.1.0\r\n",
      "    Uninstalling attrs-23.1.0:\r\n",
      "      Successfully uninstalled attrs-23.1.0\r\n",
      "Successfully installed attrs-22.1.0\r\n",
      "Looking in links: ./\r\n",
      "Processing ./pyctcdecode/exceptiongroup-1.0.0rc9-py3-none-any.whl\r\n",
      "Installing collected packages: exceptiongroup\r\n",
      "  Attempting uninstall: exceptiongroup\r\n",
      "    Found existing installation: exceptiongroup 1.1.1\r\n",
      "    Uninstalling exceptiongroup-1.1.1:\r\n",
      "      Successfully uninstalled exceptiongroup-1.1.1\r\n",
      "Successfully installed exceptiongroup-1.0.0rc9\r\n",
      "Looking in links: ./\r\n",
      "Processing ./pyctcdecode/hypothesis-6.54.4-py3-none-any.whl\r\n",
      "Installing collected packages: hypothesis\r\n",
      "Successfully installed hypothesis-6.54.4\r\n",
      "Looking in links: ./\r\n",
      "\u001b[31mERROR: numpy-1.21.6-cp37-cp37m-manylinux_2_12_x86_64.manylinux2010_x86_64.whl is not a supported wheel on this platform.\u001b[0m\u001b[31m\r\n",
      "\u001b[0mLooking in links: ./\r\n",
      "Processing ./pyctcdecode/pygtrie-2.5.0.tar.gz\r\n",
      "  Preparing metadata (setup.py) ... \u001b[?25l-\b \bdone\r\n",
      "\u001b[?25hBuilding wheels for collected packages: pygtrie\r\n",
      "  Building wheel for pygtrie (setup.py) ... \u001b[?25l-\b \b\\\b \bdone\r\n",
      "\u001b[?25h  Created wheel for pygtrie: filename=pygtrie-2.5.0-py3-none-any.whl size=20942 sha256=75679c00b887760a9e18a356484ef03d3c393c82edca920069351e4a56ea7fdb\r\n",
      "  Stored in directory: /root/.cache/pip/wheels/78/28/09/b62c97a3e77102645c7ecc78c97580ad57090b1eee5438d6ac\r\n",
      "Successfully built pygtrie\r\n",
      "Installing collected packages: pygtrie\r\n",
      "Successfully installed pygtrie-2.5.0\r\n",
      "Looking in links: ./\r\n",
      "Processing ./pyctcdecode/sortedcontainers-2.4.0-py2.py3-none-any.whl\r\n",
      "sortedcontainers is already installed with the same version as the provided wheel. Use --force-reinstall to force an installation of the wheel.\r\n",
      "Looking in links: ./\r\n",
      "Processing ./pyctcdecode/pyctcdecode-0.4.0-py2.py3-none-any.whl\r\n",
      "Installing collected packages: pyctcdecode\r\n",
      "Successfully installed pyctcdecode-0.4.0\r\n",
      "pypikenlm/\r\n",
      "pypikenlm/pypi-kenlm-0.1.20220713.tar.gz\r\n",
      "Looking in links: ./\r\n",
      "Processing ./pypikenlm/pypi-kenlm-0.1.20220713.tar.gz\r\n",
      "  Preparing metadata (setup.py) ... \u001b[?25ldone\r\n",
      "\u001b[?25hBuilding wheels for collected packages: pypi-kenlm\r\n",
      "  Building wheel for pypi-kenlm (setup.py) ... \u001b[?25l-\b \b\\\b \bdone\r\n",
      "\u001b[?25h  Created wheel for pypi-kenlm: filename=pypi_kenlm-0.1.20220713-cp310-cp310-linux_x86_64.whl size=333233 sha256=4476b18a366db41e3f72a2a49e69982b8046fc1b7dc862459a25b473cf762327\r\n",
      "  Stored in directory: /root/.cache/pip/wheels/1e/7a/db/27645fac296d5d5ba5c461b1af834eebc0ba4643290dbc5476\r\n",
      "Successfully built pypi-kenlm\r\n",
      "Installing collected packages: pypi-kenlm\r\n",
      "Successfully installed pypi-kenlm-0.1.20220713\r\n"
     ]
    }
   ],
   "source": [
    "!cp -r ../input/python-packages2 ./\n",
    "\n",
    "!tar xvfz ./python-packages2/jiwer.tgz\n",
    "!pip install ./jiwer/jiwer-2.3.0-py3-none-any.whl -f ./ --no-index\n",
    "!tar xvfz ./python-packages2/normalizer.tgz\n",
    "!pip install ./normalizer/bnunicodenormalizer-0.0.24.tar.gz -f ./ --no-index\n",
    "!tar xvfz ./python-packages2/pyctcdecode.tgz\n",
    "!pip install ./pyctcdecode/attrs-22.1.0-py2.py3-none-any.whl -f ./ --no-index --no-deps\n",
    "!pip install ./pyctcdecode/exceptiongroup-1.0.0rc9-py3-none-any.whl -f ./ --no-index --no-deps\n",
    "!pip install ./pyctcdecode/hypothesis-6.54.4-py3-none-any.whl -f ./ --no-index --no-deps\n",
    "!pip install ./pyctcdecode/numpy-1.21.6-cp37-cp37m-manylinux_2_12_x86_64.manylinux2010_x86_64.whl -f ./ --no-index --no-deps\n",
    "!pip install ./pyctcdecode/pygtrie-2.5.0.tar.gz -f ./ --no-index --no-deps\n",
    "!pip install ./pyctcdecode/sortedcontainers-2.4.0-py2.py3-none-any.whl -f ./ --no-index --no-deps\n",
    "!pip install ./pyctcdecode/pyctcdecode-0.4.0-py2.py3-none-any.whl -f ./ --no-index --no-deps\n",
    "\n",
    "!tar xvfz ./python-packages2/pypikenlm.tgz\n",
    "!pip install ./pypikenlm/pypi-kenlm-0.1.20220713.tar.gz -f ./ --no-index --no-deps"
   ]
  },
  {
   "cell_type": "code",
   "execution_count": 2,
   "id": "11834f53",
   "metadata": {
    "execution": {
     "iopub.execute_input": "2023-10-13T14:58:49.273196Z",
     "iopub.status.busy": "2023-10-13T14:58:49.272878Z",
     "iopub.status.idle": "2023-10-13T14:58:50.238078Z",
     "shell.execute_reply": "2023-10-13T14:58:50.236877Z"
    },
    "papermill": {
     "duration": 0.973516,
     "end_time": "2023-10-13T14:58:50.240225",
     "exception": false,
     "start_time": "2023-10-13T14:58:49.266709",
     "status": "completed"
    },
    "tags": []
   },
   "outputs": [],
   "source": [
    "rm -r python-packages2 jiwer normalizer pyctcdecode pypikenlm"
   ]
  },
  {
   "cell_type": "markdown",
   "id": "bf77d129",
   "metadata": {
    "papermill": {
     "duration": 0.004816,
     "end_time": "2023-10-13T14:58:50.250281",
     "exception": false,
     "start_time": "2023-10-13T14:58:50.245465",
     "status": "completed"
    },
    "tags": []
   },
   "source": [
    "# ライブラリのインストール / Install the libraries"
   ]
  },
  {
   "cell_type": "code",
   "execution_count": 3,
   "id": "8c0b280a",
   "metadata": {
    "execution": {
     "iopub.execute_input": "2023-10-13T14:58:50.261332Z",
     "iopub.status.busy": "2023-10-13T14:58:50.261036Z",
     "iopub.status.idle": "2023-10-13T14:59:05.078551Z",
     "shell.execute_reply": "2023-10-13T14:59:05.077577Z"
    },
    "papermill": {
     "duration": 14.825683,
     "end_time": "2023-10-13T14:59:05.080748",
     "exception": false,
     "start_time": "2023-10-13T14:58:50.255065",
     "status": "completed"
    },
    "tags": []
   },
   "outputs": [
    {
     "name": "stderr",
     "output_type": "stream",
     "text": [
      "/opt/conda/lib/python3.10/site-packages/scipy/__init__.py:146: UserWarning: A NumPy version >=1.16.5 and <1.23.0 is required for this version of SciPy (detected version 1.23.5\n",
      "  warnings.warn(f\"A NumPy version >={np_minversion} and <{np_maxversion}\"\n"
     ]
    }
   ],
   "source": [
    "import typing as tp\n",
    "from pathlib import Path\n",
    "from functools import partial\n",
    "from dataclasses import dataclass, field\n",
    "\n",
    "import pandas as pd\n",
    "import pyctcdecode\n",
    "import numpy as np\n",
    "from tqdm.notebook import tqdm\n",
    "\n",
    "import librosa\n",
    "\n",
    "import pyctcdecode\n",
    "import kenlm\n",
    "import torch\n",
    "from transformers import Wav2Vec2Processor, Wav2Vec2ProcessorWithLM, Wav2Vec2ForCTC\n",
    "from bnunicodenormalizer import Normalizer\n",
    "\n",
    "import cloudpickle as cpkl\n",
    "\n",
    "import torch\n",
    "from torch.utils.data import Dataset"
   ]
  },
  {
   "cell_type": "markdown",
   "id": "71f7588a",
   "metadata": {
    "papermill": {
     "duration": 0.004956,
     "end_time": "2023-10-13T14:59:05.091329",
     "exception": false,
     "start_time": "2023-10-13T14:59:05.086373",
     "status": "completed"
    },
    "tags": []
   },
   "source": [
    "# Config\n",
    "\n",
    "TRAIN, TESTは学習及びテストデータ\n",
    "\n",
    "SAMPLING_RATE:16000\n",
    "\n",
    "MODEL_PATHは学習中のoutputを持ってくるか、別のファインチューニングのoutputを持ってくるかの２択\n",
    "\n",
    "LM_PATHは基本的に固定\n",
    "\n",
    "===============================\n",
    "\n",
    "TRAIN:train data\n",
    "\n",
    "TEST:test data\n",
    "\n",
    "SAMPLING_RATE:16000\n",
    "\n",
    "MODEL_PATH:set to the model which is already trained\n",
    "\n",
    "LM_PATH:basically dont need to change"
   ]
  },
  {
   "cell_type": "code",
   "execution_count": 4,
   "id": "f99b3681",
   "metadata": {
    "execution": {
     "iopub.execute_input": "2023-10-13T14:59:05.112656Z",
     "iopub.status.busy": "2023-10-13T14:59:05.112377Z",
     "iopub.status.idle": "2023-10-13T14:59:05.117458Z",
     "shell.execute_reply": "2023-10-13T14:59:05.116456Z"
    },
    "papermill": {
     "duration": 0.012623,
     "end_time": "2023-10-13T14:59:05.119136",
     "exception": false,
     "start_time": "2023-10-13T14:59:05.106513",
     "status": "completed"
    },
    "tags": []
   },
   "outputs": [],
   "source": [
    "ROOT = Path.cwd().parent\n",
    "INPUT = ROOT/\"input\"\n",
    "DATA = INPUT/\"bengaliai-speech\"\n",
    "TRAIN = DATA/\"train_mp3s\"\n",
    "TEST = DATA/\"test_mp3s\"\n",
    "SAMPLING_RATE = 16_000\n",
    "\n",
    "### ファインチューニングした場合はMODEL_PATHを変える。\n",
    "### If you fine-tune the model, change MODEL_PATH.\n",
    "MODEL_PATH = INPUT/\"wave-2-vec-2-bengali-ai\"\n",
    "\n",
    "### こちらの方は変えなくて良さそう。(他の手法が見当たらない)\n",
    "### dont need to change this.\n",
    "LM_PATH = INPUT/\"arijitx-full-model/wav2vec2-xls-r-300m-bengali/language_model\""
   ]
  },
  {
   "cell_type": "code",
   "execution_count": 5,
   "id": "83466ad3",
   "metadata": {
    "execution": {
     "iopub.execute_input": "2023-10-13T14:59:05.130551Z",
     "iopub.status.busy": "2023-10-13T14:59:05.129883Z",
     "iopub.status.idle": "2023-10-13T14:59:17.703901Z",
     "shell.execute_reply": "2023-10-13T14:59:17.702986Z"
    },
    "papermill": {
     "duration": 12.581817,
     "end_time": "2023-10-13T14:59:17.705987",
     "exception": false,
     "start_time": "2023-10-13T14:59:05.124170",
     "status": "completed"
    },
    "tags": []
   },
   "outputs": [],
   "source": [
    "model = Wav2Vec2ForCTC.from_pretrained(MODEL_PATH)\n",
    "processor = Wav2Vec2Processor.from_pretrained(MODEL_PATH)"
   ]
  },
  {
   "cell_type": "markdown",
   "id": "bbf8c1d7",
   "metadata": {
    "papermill": {
     "duration": 0.004754,
     "end_time": "2023-10-13T14:59:17.716038",
     "exception": false,
     "start_time": "2023-10-13T14:59:17.711284",
     "status": "completed"
    },
    "tags": []
   },
   "source": [
    "vocabularyディクショナリを作成してそれをソート\n",
    "\n",
    "Wav2Vec2とlanguage modelを組み合わせてdecoderを作成している(decoderは音声データをテキストに変換するタスクを処理するためのもの)。\n",
    "\n",
    "==============================================================================================================================\n",
    "\n",
    "make vocabylary dictionaly and then sort it\n",
    "\n",
    "decoder consists of Wav2Vec2 and language model(decoder processes the conversion from the audio data to the text data)"
   ]
  },
  {
   "cell_type": "code",
   "execution_count": 6,
   "id": "85ff31c4",
   "metadata": {
    "execution": {
     "iopub.execute_input": "2023-10-13T14:59:17.727275Z",
     "iopub.status.busy": "2023-10-13T14:59:17.727008Z",
     "iopub.status.idle": "2023-10-13T14:59:57.297259Z",
     "shell.execute_reply": "2023-10-13T14:59:57.296369Z"
    },
    "papermill": {
     "duration": 39.579515,
     "end_time": "2023-10-13T14:59:57.300552",
     "exception": false,
     "start_time": "2023-10-13T14:59:17.721037",
     "status": "completed"
    },
    "tags": []
   },
   "outputs": [],
   "source": [
    "vocab_dict = processor.tokenizer.get_vocab()\n",
    "sorted_vocab_dict = {k: v for k, v in sorted(vocab_dict.items(), key=lambda item: item[1])}\n",
    "\n",
    "decoder = pyctcdecode.build_ctcdecoder(\n",
    "    list(sorted_vocab_dict.keys()), # vocabulary keys\n",
    "    str(LM_PATH / \"5gram.bin\"), # path to the language model file\n",
    ")\n",
    "processor_with_lm = Wav2Vec2ProcessorWithLM(\n",
    "    feature_extractor=processor.feature_extractor, # 音声データの特徴量抽出 extract audio features\n",
    "    tokenizer=processor.tokenizer, # テキストデータのトークン化 tokenize text data\n",
    "    decoder=decoder\n",
    ")"
   ]
  },
  {
   "cell_type": "code",
   "execution_count": 7,
   "id": "0edda0e5",
   "metadata": {
    "execution": {
     "iopub.execute_input": "2023-10-13T14:59:57.321158Z",
     "iopub.status.busy": "2023-10-13T14:59:57.320836Z",
     "iopub.status.idle": "2023-10-13T14:59:57.329568Z",
     "shell.execute_reply": "2023-10-13T14:59:57.328822Z"
    },
    "papermill": {
     "duration": 0.021444,
     "end_time": "2023-10-13T14:59:57.331831",
     "exception": false,
     "start_time": "2023-10-13T14:59:57.310387",
     "status": "completed"
    },
    "tags": []
   },
   "outputs": [],
   "source": [
    "class BengaliSRTestDataset(Dataset):\n",
    "    # A custom dataset class for handling Bengali speech test data\n",
    "    \n",
    "    def __init__(self, audio_paths: list[str], sampling_rate: int):\n",
    "        # Constructor to initialize the dataset\n",
    "        \n",
    "        # Store the list of audio file paths\n",
    "        self.audio_paths = audio_paths\n",
    "        \n",
    "        # Store the sampling rate used for audio processing\n",
    "        self.sampling_rate = sampling_rate\n",
    "    \n",
    "    def __len__(self):\n",
    "        # Return the total number of samples in the dataset\n",
    "        return len(self.audio_paths)\n",
    "    \n",
    "    def __getitem__(self, index: int):\n",
    "        # Get a sample from the dataset given an index\n",
    "        \n",
    "        # Get the audio file path corresponding to the index\n",
    "        audio_path = self.audio_paths[index]\n",
    "        \n",
    "        # Get the sampling rate from the dataset settings\n",
    "        sr = self.sampling_rate\n",
    "        \n",
    "        # Load the audio file using librosa, specifying the desired sampling rate\n",
    "        # 'mono=False' indicates to load the audio as a multi-channel signal\n",
    "        # [0] at the end gets the audio signal (the first element of the returned tuple)\n",
    "        audio_signal = librosa.load(audio_path, sr=sr, mono=False)[0]\n",
    "        \n",
    "        # Return the loaded audio signal as the sample\n",
    "        return audio_signal"
   ]
  },
  {
   "cell_type": "code",
   "execution_count": 8,
   "id": "1e4f8072",
   "metadata": {
    "execution": {
     "iopub.execute_input": "2023-10-13T14:59:57.351567Z",
     "iopub.status.busy": "2023-10-13T14:59:57.351276Z",
     "iopub.status.idle": "2023-10-13T14:59:57.373339Z",
     "shell.execute_reply": "2023-10-13T14:59:57.372600Z"
    },
    "papermill": {
     "duration": 0.034456,
     "end_time": "2023-10-13T14:59:57.375576",
     "exception": false,
     "start_time": "2023-10-13T14:59:57.341120",
     "status": "completed"
    },
    "tags": []
   },
   "outputs": [],
   "source": [
    "test = pd.read_csv(DATA / \"sample_submission.csv\", dtype={\"id\": str})\n",
    "test_audio_paths = [str(TEST / f\"{aid}.mp3\") for aid in test[\"id\"].values]\n",
    "test_dataset = BengaliSRTestDataset(\n",
    "    test_audio_paths, SAMPLING_RATE\n",
    ")\n",
    "\n",
    "collate_func = partial(\n",
    "    processor_with_lm.feature_extractor,\n",
    "    return_tensors=\"pt\", sampling_rate=SAMPLING_RATE,\n",
    "    padding=True,\n",
    ")\n",
    "\n",
    "test_loader = torch.utils.data.DataLoader(\n",
    "    test_dataset, batch_size=16, shuffle=False,\n",
    "    num_workers=2, collate_fn=collate_func, drop_last=False,\n",
    "    pin_memory=True,\n",
    ")"
   ]
  },
  {
   "cell_type": "markdown",
   "id": "12b973ff",
   "metadata": {
    "papermill": {
     "duration": 0.008882,
     "end_time": "2023-10-13T14:59:57.394144",
     "exception": false,
     "start_time": "2023-10-13T14:59:57.385262",
     "status": "completed"
    },
    "tags": []
   },
   "source": [
    "# 推論 / Inference"
   ]
  },
  {
   "cell_type": "code",
   "execution_count": 9,
   "id": "71605762",
   "metadata": {
    "execution": {
     "iopub.execute_input": "2023-10-13T14:59:57.413607Z",
     "iopub.status.busy": "2023-10-13T14:59:57.413321Z",
     "iopub.status.idle": "2023-10-13T15:00:03.413145Z",
     "shell.execute_reply": "2023-10-13T15:00:03.412200Z"
    },
    "papermill": {
     "duration": 6.01183,
     "end_time": "2023-10-13T15:00:03.415304",
     "exception": false,
     "start_time": "2023-10-13T14:59:57.403474",
     "status": "completed"
    },
    "tags": []
   },
   "outputs": [
    {
     "name": "stdout",
     "output_type": "stream",
     "text": [
      "cuda\n"
     ]
    }
   ],
   "source": [
    "\"\"\"\n",
    "アクセレレータの確認と各種設定\n",
    "\n",
    "set accelerator and so on\n",
    "\"\"\"\n",
    "\n",
    "if not torch.cuda.is_available():\n",
    "    device = torch.device(\"cpu\")\n",
    "else:\n",
    "    device = torch.device(\"cuda\")\n",
    "print(device)\n",
    "model = model.to(device)\n",
    "\n",
    "\"\"\"\n",
    "model.eval()とすることでモデルを評価モードに切り替える。\n",
    "\n",
    "switch to evaluation mode\n",
    "\"\"\"\n",
    "model = model.eval()\n",
    "\n",
    "\"\"\"\n",
    "model.half()とすることでモデルのデータ型を半精度浮動小数点数に変換する。\n",
    "半精度浮動小数点数にすることで演算の高速化、性能向上が期待できる\n",
    "\n",
    "set to model.half() such that the model is converted to half precision floating point number.\n",
    "converting to half precision floating point number is expected to speed up the calculation and improve the performance.\n",
    "\"\"\"\n",
    "model = model.half()"
   ]
  },
  {
   "cell_type": "code",
   "execution_count": 10,
   "id": "f5d0aaa8",
   "metadata": {
    "execution": {
     "iopub.execute_input": "2023-10-13T15:00:03.427417Z",
     "iopub.status.busy": "2023-10-13T15:00:03.426865Z",
     "iopub.status.idle": "2023-10-13T15:00:18.369296Z",
     "shell.execute_reply": "2023-10-13T15:00:18.368293Z"
    },
    "papermill": {
     "duration": 14.950716,
     "end_time": "2023-10-13T15:00:18.371320",
     "exception": false,
     "start_time": "2023-10-13T15:00:03.420604",
     "status": "completed"
    },
    "tags": []
   },
   "outputs": [
    {
     "data": {
      "application/vnd.jupyter.widget-view+json": {
       "model_id": "811ccd6a71af46ee8d6f231ddd2c7820",
       "version_major": 2,
       "version_minor": 0
      },
      "text/plain": [
       "  0%|          | 0/1 [00:00<?, ?it/s]"
      ]
     },
     "metadata": {},
     "output_type": "display_data"
    }
   ],
   "source": [
    "\"\"\"\n",
    "予測した文を格納するためのリスト\n",
    "\n",
    "list for storing predicted sentences\n",
    "\"\"\"\n",
    "pred_sentence_list = []\n",
    "\n",
    "\"\"\"\n",
    "ファインチューニングは別のノートブックで行っているため購買計算は行わない。\n",
    "つまり重みを変えるようなコードは書かない。\n",
    "\"\"\"\n",
    "with torch.no_grad():\n",
    "    for batch in tqdm(test_loader):\n",
    "        x = batch[\"input_values\"]\n",
    "        x = x.to(device, non_blocking=True)\n",
    "        with torch.cuda.amp.autocast(True):\n",
    "            y = model(x).logits\n",
    "        y = y.detach().cpu().numpy()\n",
    "        \n",
    "        for l in y:  \n",
    "            sentence = processor_with_lm.decode(l, beam_width=512).text\n",
    "            pred_sentence_list.append(sentence)"
   ]
  },
  {
   "cell_type": "markdown",
   "id": "01c3c3f5",
   "metadata": {
    "papermill": {
     "duration": 0.004919,
     "end_time": "2023-10-13T15:00:18.385121",
     "exception": false,
     "start_time": "2023-10-13T15:00:18.380202",
     "status": "completed"
    },
    "tags": []
   },
   "source": [
    "# Postprocess と Make submission / Postprocess and make submission"
   ]
  },
  {
   "cell_type": "code",
   "execution_count": 11,
   "id": "03cfa3fa",
   "metadata": {
    "execution": {
     "iopub.execute_input": "2023-10-13T15:00:18.397222Z",
     "iopub.status.busy": "2023-10-13T15:00:18.396359Z",
     "iopub.status.idle": "2023-10-13T15:00:18.429590Z",
     "shell.execute_reply": "2023-10-13T15:00:18.428675Z"
    },
    "papermill": {
     "duration": 0.041629,
     "end_time": "2023-10-13T15:00:18.431896",
     "exception": false,
     "start_time": "2023-10-13T15:00:18.390267",
     "status": "completed"
    },
    "tags": []
   },
   "outputs": [
    {
     "data": {
      "application/vnd.jupyter.widget-view+json": {
       "model_id": "37d0740acb8d4f3f983cab34d5d22da4",
       "version_major": 2,
       "version_minor": 0
      },
      "text/plain": [
       "  0%|          | 0/3 [00:00<?, ?it/s]"
      ]
     },
     "metadata": {},
     "output_type": "display_data"
    }
   ],
   "source": [
    "\"\"\"\"\n",
    "テキストの標準化\n",
    "\n",
    "normalize text\n",
    "\"\"\"\n",
    "bnorm = Normalizer()\n",
    "\n",
    "def postprocess(sentence):\n",
    "    period_set = set([\".\", \"?\", \"!\", \"।\"])\n",
    "    _words = [bnorm(word)['normalized']  for word in sentence.split()]\n",
    "    sentence = \" \".join([word for word in _words if word is not None])\n",
    "    try:\n",
    "        if sentence[-1] not in period_set:\n",
    "            sentence+=\"।\"\n",
    "    except:\n",
    "        # print(sentence)\n",
    "        sentence = \"।\"\n",
    "    return sentence\n",
    "\n",
    "pp_pred_sentence_list = [postprocess(s) for s in tqdm(pred_sentence_list)]"
   ]
  },
  {
   "cell_type": "code",
   "execution_count": 12,
   "id": "692b6c2c",
   "metadata": {
    "execution": {
     "iopub.execute_input": "2023-10-13T15:00:18.452919Z",
     "iopub.status.busy": "2023-10-13T15:00:18.452656Z",
     "iopub.status.idle": "2023-10-13T15:00:18.473356Z",
     "shell.execute_reply": "2023-10-13T15:00:18.472358Z"
    },
    "papermill": {
     "duration": 0.031618,
     "end_time": "2023-10-13T15:00:18.475220",
     "exception": false,
     "start_time": "2023-10-13T15:00:18.443602",
     "status": "completed"
    },
    "tags": []
   },
   "outputs": [
    {
     "data": {
      "text/html": [
       "<div>\n",
       "<style scoped>\n",
       "    .dataframe tbody tr th:only-of-type {\n",
       "        vertical-align: middle;\n",
       "    }\n",
       "\n",
       "    .dataframe tbody tr th {\n",
       "        vertical-align: top;\n",
       "    }\n",
       "\n",
       "    .dataframe thead th {\n",
       "        text-align: right;\n",
       "    }\n",
       "</style>\n",
       "<table border=\"1\" class=\"dataframe\">\n",
       "  <thead>\n",
       "    <tr style=\"text-align: right;\">\n",
       "      <th></th>\n",
       "      <th>id</th>\n",
       "      <th>sentence</th>\n",
       "    </tr>\n",
       "  </thead>\n",
       "  <tbody>\n",
       "    <tr>\n",
       "      <th>0</th>\n",
       "      <td>0f3dac00655e</td>\n",
       "      <td>একটু বয়স হলে একটি বিদেশী।</td>\n",
       "    </tr>\n",
       "    <tr>\n",
       "      <th>1</th>\n",
       "      <td>a9395e01ad21</td>\n",
       "      <td>কী কারণে তুমি এতাবৎ কাল পর্যন্ত এ দারুণ দৈব দু...</td>\n",
       "    </tr>\n",
       "    <tr>\n",
       "      <th>2</th>\n",
       "      <td>bf36ea8b718d</td>\n",
       "      <td>এ কারণে সরকার নির্ধারিত হারে পরিবহনজনিত ক্ষতি ...</td>\n",
       "    </tr>\n",
       "  </tbody>\n",
       "</table>\n",
       "</div>"
      ],
      "text/plain": [
       "             id                                           sentence\n",
       "0  0f3dac00655e                          একটু বয়স হলে একটি বিদেশী।\n",
       "1  a9395e01ad21  কী কারণে তুমি এতাবৎ কাল পর্যন্ত এ দারুণ দৈব দু...\n",
       "2  bf36ea8b718d  এ কারণে সরকার নির্ধারিত হারে পরিবহনজনিত ক্ষতি ..."
      ]
     },
     "metadata": {},
     "output_type": "display_data"
    }
   ],
   "source": [
    "test[\"sentence\"] = pp_pred_sentence_list\n",
    "\n",
    "test.to_csv(\"submission.csv\", index=False)\n",
    "\n",
    "display(test.head())"
   ]
  }
 ],
 "metadata": {
  "kernelspec": {
   "display_name": "Python 3",
   "language": "python",
   "name": "python3"
  },
  "language_info": {
   "codemirror_mode": {
    "name": "ipython",
    "version": 3
   },
   "file_extension": ".py",
   "mimetype": "text/x-python",
   "name": "python",
   "nbconvert_exporter": "python",
   "pygments_lexer": "ipython3",
   "version": "3.10.12"
  },
  "papermill": {
   "default_parameters": {},
   "duration": 160.555686,
   "end_time": "2023-10-13T15:00:22.329696",
   "environment_variables": {},
   "exception": null,
   "input_path": "__notebook__.ipynb",
   "output_path": "__notebook__.ipynb",
   "parameters": {},
   "start_time": "2023-10-13T14:57:41.774010",
   "version": "2.4.0"
  },
  "widgets": {
   "application/vnd.jupyter.widget-state+json": {
    "state": {
     "030ce60297f44d85b197700d4d225704": {
      "model_module": "@jupyter-widgets/controls",
      "model_module_version": "1.5.0",
      "model_name": "DescriptionStyleModel",
      "state": {
       "_model_module": "@jupyter-widgets/controls",
       "_model_module_version": "1.5.0",
       "_model_name": "DescriptionStyleModel",
       "_view_count": null,
       "_view_module": "@jupyter-widgets/base",
       "_view_module_version": "1.2.0",
       "_view_name": "StyleView",
       "description_width": ""
      }
     },
     "0b027e140e394d469838ce99388a8c6c": {
      "model_module": "@jupyter-widgets/base",
      "model_module_version": "1.2.0",
      "model_name": "LayoutModel",
      "state": {
       "_model_module": "@jupyter-widgets/base",
       "_model_module_version": "1.2.0",
       "_model_name": "LayoutModel",
       "_view_count": null,
       "_view_module": "@jupyter-widgets/base",
       "_view_module_version": "1.2.0",
       "_view_name": "LayoutView",
       "align_content": null,
       "align_items": null,
       "align_self": null,
       "border": null,
       "bottom": null,
       "display": null,
       "flex": null,
       "flex_flow": null,
       "grid_area": null,
       "grid_auto_columns": null,
       "grid_auto_flow": null,
       "grid_auto_rows": null,
       "grid_column": null,
       "grid_gap": null,
       "grid_row": null,
       "grid_template_areas": null,
       "grid_template_columns": null,
       "grid_template_rows": null,
       "height": null,
       "justify_content": null,
       "justify_items": null,
       "left": null,
       "margin": null,
       "max_height": null,
       "max_width": null,
       "min_height": null,
       "min_width": null,
       "object_fit": null,
       "object_position": null,
       "order": null,
       "overflow": null,
       "overflow_x": null,
       "overflow_y": null,
       "padding": null,
       "right": null,
       "top": null,
       "visibility": null,
       "width": null
      }
     },
     "307be9ddcad347a9a282df78f3ec1ab2": {
      "model_module": "@jupyter-widgets/controls",
      "model_module_version": "1.5.0",
      "model_name": "DescriptionStyleModel",
      "state": {
       "_model_module": "@jupyter-widgets/controls",
       "_model_module_version": "1.5.0",
       "_model_name": "DescriptionStyleModel",
       "_view_count": null,
       "_view_module": "@jupyter-widgets/base",
       "_view_module_version": "1.2.0",
       "_view_name": "StyleView",
       "description_width": ""
      }
     },
     "35359bced54f4cfcaa0588366cd78d4f": {
      "model_module": "@jupyter-widgets/base",
      "model_module_version": "1.2.0",
      "model_name": "LayoutModel",
      "state": {
       "_model_module": "@jupyter-widgets/base",
       "_model_module_version": "1.2.0",
       "_model_name": "LayoutModel",
       "_view_count": null,
       "_view_module": "@jupyter-widgets/base",
       "_view_module_version": "1.2.0",
       "_view_name": "LayoutView",
       "align_content": null,
       "align_items": null,
       "align_self": null,
       "border": null,
       "bottom": null,
       "display": null,
       "flex": null,
       "flex_flow": null,
       "grid_area": null,
       "grid_auto_columns": null,
       "grid_auto_flow": null,
       "grid_auto_rows": null,
       "grid_column": null,
       "grid_gap": null,
       "grid_row": null,
       "grid_template_areas": null,
       "grid_template_columns": null,
       "grid_template_rows": null,
       "height": null,
       "justify_content": null,
       "justify_items": null,
       "left": null,
       "margin": null,
       "max_height": null,
       "max_width": null,
       "min_height": null,
       "min_width": null,
       "object_fit": null,
       "object_position": null,
       "order": null,
       "overflow": null,
       "overflow_x": null,
       "overflow_y": null,
       "padding": null,
       "right": null,
       "top": null,
       "visibility": null,
       "width": null
      }
     },
     "37d0740acb8d4f3f983cab34d5d22da4": {
      "model_module": "@jupyter-widgets/controls",
      "model_module_version": "1.5.0",
      "model_name": "HBoxModel",
      "state": {
       "_dom_classes": [],
       "_model_module": "@jupyter-widgets/controls",
       "_model_module_version": "1.5.0",
       "_model_name": "HBoxModel",
       "_view_count": null,
       "_view_module": "@jupyter-widgets/controls",
       "_view_module_version": "1.5.0",
       "_view_name": "HBoxView",
       "box_style": "",
       "children": [
        "IPY_MODEL_953b5520d4f1461abc6a2003c8a5627c",
        "IPY_MODEL_7a091b90d091484a9af118a38cff44b1",
        "IPY_MODEL_c4400bf70e374e418c9f08dcba780ea3"
       ],
       "layout": "IPY_MODEL_5b2094aa972e4de7ab041f9b7dfca106"
      }
     },
     "397a74da31a94fc8a65c23273c8cabe2": {
      "model_module": "@jupyter-widgets/base",
      "model_module_version": "1.2.0",
      "model_name": "LayoutModel",
      "state": {
       "_model_module": "@jupyter-widgets/base",
       "_model_module_version": "1.2.0",
       "_model_name": "LayoutModel",
       "_view_count": null,
       "_view_module": "@jupyter-widgets/base",
       "_view_module_version": "1.2.0",
       "_view_name": "LayoutView",
       "align_content": null,
       "align_items": null,
       "align_self": null,
       "border": null,
       "bottom": null,
       "display": null,
       "flex": null,
       "flex_flow": null,
       "grid_area": null,
       "grid_auto_columns": null,
       "grid_auto_flow": null,
       "grid_auto_rows": null,
       "grid_column": null,
       "grid_gap": null,
       "grid_row": null,
       "grid_template_areas": null,
       "grid_template_columns": null,
       "grid_template_rows": null,
       "height": null,
       "justify_content": null,
       "justify_items": null,
       "left": null,
       "margin": null,
       "max_height": null,
       "max_width": null,
       "min_height": null,
       "min_width": null,
       "object_fit": null,
       "object_position": null,
       "order": null,
       "overflow": null,
       "overflow_x": null,
       "overflow_y": null,
       "padding": null,
       "right": null,
       "top": null,
       "visibility": null,
       "width": null
      }
     },
     "3ae7fff520d24821adffb99ce0d13338": {
      "model_module": "@jupyter-widgets/base",
      "model_module_version": "1.2.0",
      "model_name": "LayoutModel",
      "state": {
       "_model_module": "@jupyter-widgets/base",
       "_model_module_version": "1.2.0",
       "_model_name": "LayoutModel",
       "_view_count": null,
       "_view_module": "@jupyter-widgets/base",
       "_view_module_version": "1.2.0",
       "_view_name": "LayoutView",
       "align_content": null,
       "align_items": null,
       "align_self": null,
       "border": null,
       "bottom": null,
       "display": null,
       "flex": null,
       "flex_flow": null,
       "grid_area": null,
       "grid_auto_columns": null,
       "grid_auto_flow": null,
       "grid_auto_rows": null,
       "grid_column": null,
       "grid_gap": null,
       "grid_row": null,
       "grid_template_areas": null,
       "grid_template_columns": null,
       "grid_template_rows": null,
       "height": null,
       "justify_content": null,
       "justify_items": null,
       "left": null,
       "margin": null,
       "max_height": null,
       "max_width": null,
       "min_height": null,
       "min_width": null,
       "object_fit": null,
       "object_position": null,
       "order": null,
       "overflow": null,
       "overflow_x": null,
       "overflow_y": null,
       "padding": null,
       "right": null,
       "top": null,
       "visibility": null,
       "width": null
      }
     },
     "429dbc0e94324e358ffb491be1b95766": {
      "model_module": "@jupyter-widgets/controls",
      "model_module_version": "1.5.0",
      "model_name": "DescriptionStyleModel",
      "state": {
       "_model_module": "@jupyter-widgets/controls",
       "_model_module_version": "1.5.0",
       "_model_name": "DescriptionStyleModel",
       "_view_count": null,
       "_view_module": "@jupyter-widgets/base",
       "_view_module_version": "1.2.0",
       "_view_name": "StyleView",
       "description_width": ""
      }
     },
     "5b2094aa972e4de7ab041f9b7dfca106": {
      "model_module": "@jupyter-widgets/base",
      "model_module_version": "1.2.0",
      "model_name": "LayoutModel",
      "state": {
       "_model_module": "@jupyter-widgets/base",
       "_model_module_version": "1.2.0",
       "_model_name": "LayoutModel",
       "_view_count": null,
       "_view_module": "@jupyter-widgets/base",
       "_view_module_version": "1.2.0",
       "_view_name": "LayoutView",
       "align_content": null,
       "align_items": null,
       "align_self": null,
       "border": null,
       "bottom": null,
       "display": null,
       "flex": null,
       "flex_flow": null,
       "grid_area": null,
       "grid_auto_columns": null,
       "grid_auto_flow": null,
       "grid_auto_rows": null,
       "grid_column": null,
       "grid_gap": null,
       "grid_row": null,
       "grid_template_areas": null,
       "grid_template_columns": null,
       "grid_template_rows": null,
       "height": null,
       "justify_content": null,
       "justify_items": null,
       "left": null,
       "margin": null,
       "max_height": null,
       "max_width": null,
       "min_height": null,
       "min_width": null,
       "object_fit": null,
       "object_position": null,
       "order": null,
       "overflow": null,
       "overflow_x": null,
       "overflow_y": null,
       "padding": null,
       "right": null,
       "top": null,
       "visibility": null,
       "width": null
      }
     },
     "6c82d842c2b947ffae97e97bda653167": {
      "model_module": "@jupyter-widgets/controls",
      "model_module_version": "1.5.0",
      "model_name": "DescriptionStyleModel",
      "state": {
       "_model_module": "@jupyter-widgets/controls",
       "_model_module_version": "1.5.0",
       "_model_name": "DescriptionStyleModel",
       "_view_count": null,
       "_view_module": "@jupyter-widgets/base",
       "_view_module_version": "1.2.0",
       "_view_name": "StyleView",
       "description_width": ""
      }
     },
     "7304757b32da4974ae098d7f38d7a990": {
      "model_module": "@jupyter-widgets/base",
      "model_module_version": "1.2.0",
      "model_name": "LayoutModel",
      "state": {
       "_model_module": "@jupyter-widgets/base",
       "_model_module_version": "1.2.0",
       "_model_name": "LayoutModel",
       "_view_count": null,
       "_view_module": "@jupyter-widgets/base",
       "_view_module_version": "1.2.0",
       "_view_name": "LayoutView",
       "align_content": null,
       "align_items": null,
       "align_self": null,
       "border": null,
       "bottom": null,
       "display": null,
       "flex": null,
       "flex_flow": null,
       "grid_area": null,
       "grid_auto_columns": null,
       "grid_auto_flow": null,
       "grid_auto_rows": null,
       "grid_column": null,
       "grid_gap": null,
       "grid_row": null,
       "grid_template_areas": null,
       "grid_template_columns": null,
       "grid_template_rows": null,
       "height": null,
       "justify_content": null,
       "justify_items": null,
       "left": null,
       "margin": null,
       "max_height": null,
       "max_width": null,
       "min_height": null,
       "min_width": null,
       "object_fit": null,
       "object_position": null,
       "order": null,
       "overflow": null,
       "overflow_x": null,
       "overflow_y": null,
       "padding": null,
       "right": null,
       "top": null,
       "visibility": null,
       "width": null
      }
     },
     "7a091b90d091484a9af118a38cff44b1": {
      "model_module": "@jupyter-widgets/controls",
      "model_module_version": "1.5.0",
      "model_name": "FloatProgressModel",
      "state": {
       "_dom_classes": [],
       "_model_module": "@jupyter-widgets/controls",
       "_model_module_version": "1.5.0",
       "_model_name": "FloatProgressModel",
       "_view_count": null,
       "_view_module": "@jupyter-widgets/controls",
       "_view_module_version": "1.5.0",
       "_view_name": "ProgressView",
       "bar_style": "success",
       "description": "",
       "description_tooltip": null,
       "layout": "IPY_MODEL_a32010095aae4b789604be3c0a08ed65",
       "max": 3,
       "min": 0,
       "orientation": "horizontal",
       "style": "IPY_MODEL_d3e1ee33be8f435cad690870a7bf57ad",
       "value": 3
      }
     },
     "7ec860d6337a47bb807d769f9fb43e1a": {
      "model_module": "@jupyter-widgets/controls",
      "model_module_version": "1.5.0",
      "model_name": "ProgressStyleModel",
      "state": {
       "_model_module": "@jupyter-widgets/controls",
       "_model_module_version": "1.5.0",
       "_model_name": "ProgressStyleModel",
       "_view_count": null,
       "_view_module": "@jupyter-widgets/base",
       "_view_module_version": "1.2.0",
       "_view_name": "StyleView",
       "bar_color": null,
       "description_width": ""
      }
     },
     "811ccd6a71af46ee8d6f231ddd2c7820": {
      "model_module": "@jupyter-widgets/controls",
      "model_module_version": "1.5.0",
      "model_name": "HBoxModel",
      "state": {
       "_dom_classes": [],
       "_model_module": "@jupyter-widgets/controls",
       "_model_module_version": "1.5.0",
       "_model_name": "HBoxModel",
       "_view_count": null,
       "_view_module": "@jupyter-widgets/controls",
       "_view_module_version": "1.5.0",
       "_view_name": "HBoxView",
       "box_style": "",
       "children": [
        "IPY_MODEL_b4f8512d12684169b9a7cf5ca6b39c36",
        "IPY_MODEL_a88f1a95db764982872c163486346d68",
        "IPY_MODEL_e316234487b94d9f97ab51939c4c754e"
       ],
       "layout": "IPY_MODEL_35359bced54f4cfcaa0588366cd78d4f"
      }
     },
     "953b5520d4f1461abc6a2003c8a5627c": {
      "model_module": "@jupyter-widgets/controls",
      "model_module_version": "1.5.0",
      "model_name": "HTMLModel",
      "state": {
       "_dom_classes": [],
       "_model_module": "@jupyter-widgets/controls",
       "_model_module_version": "1.5.0",
       "_model_name": "HTMLModel",
       "_view_count": null,
       "_view_module": "@jupyter-widgets/controls",
       "_view_module_version": "1.5.0",
       "_view_name": "HTMLView",
       "description": "",
       "description_tooltip": null,
       "layout": "IPY_MODEL_3ae7fff520d24821adffb99ce0d13338",
       "placeholder": "​",
       "style": "IPY_MODEL_307be9ddcad347a9a282df78f3ec1ab2",
       "value": "100%"
      }
     },
     "a32010095aae4b789604be3c0a08ed65": {
      "model_module": "@jupyter-widgets/base",
      "model_module_version": "1.2.0",
      "model_name": "LayoutModel",
      "state": {
       "_model_module": "@jupyter-widgets/base",
       "_model_module_version": "1.2.0",
       "_model_name": "LayoutModel",
       "_view_count": null,
       "_view_module": "@jupyter-widgets/base",
       "_view_module_version": "1.2.0",
       "_view_name": "LayoutView",
       "align_content": null,
       "align_items": null,
       "align_self": null,
       "border": null,
       "bottom": null,
       "display": null,
       "flex": null,
       "flex_flow": null,
       "grid_area": null,
       "grid_auto_columns": null,
       "grid_auto_flow": null,
       "grid_auto_rows": null,
       "grid_column": null,
       "grid_gap": null,
       "grid_row": null,
       "grid_template_areas": null,
       "grid_template_columns": null,
       "grid_template_rows": null,
       "height": null,
       "justify_content": null,
       "justify_items": null,
       "left": null,
       "margin": null,
       "max_height": null,
       "max_width": null,
       "min_height": null,
       "min_width": null,
       "object_fit": null,
       "object_position": null,
       "order": null,
       "overflow": null,
       "overflow_x": null,
       "overflow_y": null,
       "padding": null,
       "right": null,
       "top": null,
       "visibility": null,
       "width": null
      }
     },
     "a88f1a95db764982872c163486346d68": {
      "model_module": "@jupyter-widgets/controls",
      "model_module_version": "1.5.0",
      "model_name": "FloatProgressModel",
      "state": {
       "_dom_classes": [],
       "_model_module": "@jupyter-widgets/controls",
       "_model_module_version": "1.5.0",
       "_model_name": "FloatProgressModel",
       "_view_count": null,
       "_view_module": "@jupyter-widgets/controls",
       "_view_module_version": "1.5.0",
       "_view_name": "ProgressView",
       "bar_style": "success",
       "description": "",
       "description_tooltip": null,
       "layout": "IPY_MODEL_397a74da31a94fc8a65c23273c8cabe2",
       "max": 1,
       "min": 0,
       "orientation": "horizontal",
       "style": "IPY_MODEL_7ec860d6337a47bb807d769f9fb43e1a",
       "value": 1
      }
     },
     "b4f8512d12684169b9a7cf5ca6b39c36": {
      "model_module": "@jupyter-widgets/controls",
      "model_module_version": "1.5.0",
      "model_name": "HTMLModel",
      "state": {
       "_dom_classes": [],
       "_model_module": "@jupyter-widgets/controls",
       "_model_module_version": "1.5.0",
       "_model_name": "HTMLModel",
       "_view_count": null,
       "_view_module": "@jupyter-widgets/controls",
       "_view_module_version": "1.5.0",
       "_view_name": "HTMLView",
       "description": "",
       "description_tooltip": null,
       "layout": "IPY_MODEL_7304757b32da4974ae098d7f38d7a990",
       "placeholder": "​",
       "style": "IPY_MODEL_030ce60297f44d85b197700d4d225704",
       "value": "100%"
      }
     },
     "c4400bf70e374e418c9f08dcba780ea3": {
      "model_module": "@jupyter-widgets/controls",
      "model_module_version": "1.5.0",
      "model_name": "HTMLModel",
      "state": {
       "_dom_classes": [],
       "_model_module": "@jupyter-widgets/controls",
       "_model_module_version": "1.5.0",
       "_model_name": "HTMLModel",
       "_view_count": null,
       "_view_module": "@jupyter-widgets/controls",
       "_view_module_version": "1.5.0",
       "_view_name": "HTMLView",
       "description": "",
       "description_tooltip": null,
       "layout": "IPY_MODEL_0b027e140e394d469838ce99388a8c6c",
       "placeholder": "​",
       "style": "IPY_MODEL_429dbc0e94324e358ffb491be1b95766",
       "value": " 3/3 [00:00&lt;00:00, 134.34it/s]"
      }
     },
     "d3e1ee33be8f435cad690870a7bf57ad": {
      "model_module": "@jupyter-widgets/controls",
      "model_module_version": "1.5.0",
      "model_name": "ProgressStyleModel",
      "state": {
       "_model_module": "@jupyter-widgets/controls",
       "_model_module_version": "1.5.0",
       "_model_name": "ProgressStyleModel",
       "_view_count": null,
       "_view_module": "@jupyter-widgets/base",
       "_view_module_version": "1.2.0",
       "_view_name": "StyleView",
       "bar_color": null,
       "description_width": ""
      }
     },
     "e316234487b94d9f97ab51939c4c754e": {
      "model_module": "@jupyter-widgets/controls",
      "model_module_version": "1.5.0",
      "model_name": "HTMLModel",
      "state": {
       "_dom_classes": [],
       "_model_module": "@jupyter-widgets/controls",
       "_model_module_version": "1.5.0",
       "_model_name": "HTMLModel",
       "_view_count": null,
       "_view_module": "@jupyter-widgets/controls",
       "_view_module_version": "1.5.0",
       "_view_name": "HTMLView",
       "description": "",
       "description_tooltip": null,
       "layout": "IPY_MODEL_e6aaaa96927e45beaadff447d4af5c5e",
       "placeholder": "​",
       "style": "IPY_MODEL_6c82d842c2b947ffae97e97bda653167",
       "value": " 1/1 [00:14&lt;00:00, 14.80s/it]"
      }
     },
     "e6aaaa96927e45beaadff447d4af5c5e": {
      "model_module": "@jupyter-widgets/base",
      "model_module_version": "1.2.0",
      "model_name": "LayoutModel",
      "state": {
       "_model_module": "@jupyter-widgets/base",
       "_model_module_version": "1.2.0",
       "_model_name": "LayoutModel",
       "_view_count": null,
       "_view_module": "@jupyter-widgets/base",
       "_view_module_version": "1.2.0",
       "_view_name": "LayoutView",
       "align_content": null,
       "align_items": null,
       "align_self": null,
       "border": null,
       "bottom": null,
       "display": null,
       "flex": null,
       "flex_flow": null,
       "grid_area": null,
       "grid_auto_columns": null,
       "grid_auto_flow": null,
       "grid_auto_rows": null,
       "grid_column": null,
       "grid_gap": null,
       "grid_row": null,
       "grid_template_areas": null,
       "grid_template_columns": null,
       "grid_template_rows": null,
       "height": null,
       "justify_content": null,
       "justify_items": null,
       "left": null,
       "margin": null,
       "max_height": null,
       "max_width": null,
       "min_height": null,
       "min_width": null,
       "object_fit": null,
       "object_position": null,
       "order": null,
       "overflow": null,
       "overflow_x": null,
       "overflow_y": null,
       "padding": null,
       "right": null,
       "top": null,
       "visibility": null,
       "width": null
      }
     }
    },
    "version_major": 2,
    "version_minor": 0
   }
  }
 },
 "nbformat": 4,
 "nbformat_minor": 5
}
