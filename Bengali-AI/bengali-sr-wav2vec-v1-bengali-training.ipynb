{
 "cells": [
  {
   "cell_type": "markdown",
   "id": "b04f305e",
   "metadata": {
    "papermill": {
     "duration": 0.005601,
     "end_time": "2023-10-17T18:19:01.118295",
     "exception": false,
     "start_time": "2023-10-17T18:19:01.112694",
     "status": "completed"
    },
    "tags": []
   },
   "source": [
    "こちらがファインチューニングをするようのコード。参考にしたのは\n",
    "JOSEPH JOSIAのノートブック( https://www.kaggle.com/code/takanashihumbert/bengali-sr-wav2vec-v1-bengali-training )\n",
    "\n",
    "notebook by JOSEPH JOSIA(https://www.kaggle.com/code/takanashihumbert/bengali-sr-wav2vec-v1-bengali-training) is the reference of this notebook. \n",
    "This is the notebook to do fine-tuning\n"
   ]
  },
  {
   "cell_type": "code",
   "execution_count": 1,
   "id": "343c6057",
   "metadata": {
    "_cell_guid": "b1076dfc-b9ad-4769-8c92-a6c4dae69d19",
    "_uuid": "8f2839f25d086af736a60e9eeb907d3b93b6e0e5",
    "execution": {
     "iopub.execute_input": "2023-10-17T18:19:01.129593Z",
     "iopub.status.busy": "2023-10-17T18:19:01.129315Z",
     "iopub.status.idle": "2023-10-17T18:20:50.679919Z",
     "shell.execute_reply": "2023-10-17T18:20:50.679124Z"
    },
    "papermill": {
     "duration": 109.558892,
     "end_time": "2023-10-17T18:20:50.682288",
     "exception": false,
     "start_time": "2023-10-17T18:19:01.123396",
     "status": "completed"
    },
    "tags": []
   },
   "outputs": [
    {
     "name": "stdout",
     "output_type": "stream",
     "text": [
      "jiwer/\r\n",
      "jiwer/jiwer-2.3.0-py3-none-any.whl\r\n",
      "jiwer/python-Levenshtein-0.12.2.tar.gz\r\n",
      "jiwer/setuptools-65.3.0-py3-none-any.whl\r\n",
      "Looking in links: ./\r\n",
      "Processing ./jiwer/jiwer-2.3.0-py3-none-any.whl\r\n",
      "INFO: pip is looking at multiple versions of jiwer to determine which version is compatible with other requirements. This could take a while.\r\n",
      "\u001b[31mERROR: Could not find a version that satisfies the requirement python-Levenshtein==0.12.2 (from jiwer) (from versions: none)\u001b[0m\u001b[31m\r\n",
      "\u001b[0m\u001b[31mERROR: No matching distribution found for python-Levenshtein==0.12.2\u001b[0m\u001b[31m\r\n",
      "\u001b[0mnormalizer/\r\n",
      "normalizer/bnunicodenormalizer-0.0.24.tar.gz\r\n",
      "Looking in links: ./\r\n",
      "Processing ./normalizer/bnunicodenormalizer-0.0.24.tar.gz\r\n",
      "  Preparing metadata (setup.py) ... \u001b[?25ldone\r\n",
      "\u001b[?25hBuilding wheels for collected packages: bnunicodenormalizer\r\n",
      "  Building wheel for bnunicodenormalizer (setup.py) ... \u001b[?25l-\b \bdone\r\n",
      "\u001b[?25h  Created wheel for bnunicodenormalizer: filename=bnunicodenormalizer-0.0.24-py3-none-any.whl size=17609 sha256=66e1c1ef5871c1200d2e1b7b74781219dcd6f150dbe10a1656dd142d1de22119\r\n",
      "  Stored in directory: /root/.cache/pip/wheels/78/d7/75/6986dc3616718f950b80e3bd79a796ef618eaef6cd800e7909\r\n",
      "Successfully built bnunicodenormalizer\r\n",
      "Installing collected packages: bnunicodenormalizer\r\n",
      "Successfully installed bnunicodenormalizer-0.0.24\r\n",
      "pyctcdecode/\r\n",
      "pyctcdecode/hypothesis-6.54.4-py3-none-any.whl\r\n",
      "pyctcdecode/sortedcontainers-2.4.0-py2.py3-none-any.whl\r\n",
      "pyctcdecode/exceptiongroup-1.0.0rc9-py3-none-any.whl\r\n",
      "pyctcdecode/pyctcdecode-0.4.0-py2.py3-none-any.whl\r\n",
      "pyctcdecode/numpy-1.21.6-cp37-cp37m-manylinux_2_12_x86_64.manylinux2010_x86_64.whl\r\n",
      "pyctcdecode/attrs-22.1.0-py2.py3-none-any.whl\r\n",
      "pyctcdecode/pygtrie-2.5.0.tar.gz\r\n",
      "Looking in links: ./\r\n",
      "Processing ./pyctcdecode/attrs-22.1.0-py2.py3-none-any.whl\r\n",
      "Installing collected packages: attrs\r\n",
      "  Attempting uninstall: attrs\r\n",
      "    Found existing installation: attrs 23.1.0\r\n",
      "    Uninstalling attrs-23.1.0:\r\n",
      "      Successfully uninstalled attrs-23.1.0\r\n",
      "Successfully installed attrs-22.1.0\r\n",
      "Looking in links: ./\r\n",
      "Processing ./pyctcdecode/exceptiongroup-1.0.0rc9-py3-none-any.whl\r\n",
      "Installing collected packages: exceptiongroup\r\n",
      "  Attempting uninstall: exceptiongroup\r\n",
      "    Found existing installation: exceptiongroup 1.1.1\r\n",
      "    Uninstalling exceptiongroup-1.1.1:\r\n",
      "      Successfully uninstalled exceptiongroup-1.1.1\r\n",
      "Successfully installed exceptiongroup-1.0.0rc9\r\n",
      "Looking in links: ./\r\n",
      "Processing ./pyctcdecode/hypothesis-6.54.4-py3-none-any.whl\r\n",
      "Installing collected packages: hypothesis\r\n",
      "Successfully installed hypothesis-6.54.4\r\n",
      "Looking in links: ./\r\n",
      "\u001b[31mERROR: numpy-1.21.6-cp37-cp37m-manylinux_2_12_x86_64.manylinux2010_x86_64.whl is not a supported wheel on this platform.\u001b[0m\u001b[31m\r\n",
      "\u001b[0mLooking in links: ./\r\n",
      "Processing ./pyctcdecode/pygtrie-2.5.0.tar.gz\r\n",
      "  Preparing metadata (setup.py) ... \u001b[?25l-\b \bdone\r\n",
      "\u001b[?25hBuilding wheels for collected packages: pygtrie\r\n",
      "  Building wheel for pygtrie (setup.py) ... \u001b[?25l-\b \b\\\b \bdone\r\n",
      "\u001b[?25h  Created wheel for pygtrie: filename=pygtrie-2.5.0-py3-none-any.whl size=20942 sha256=acb803884551b7be905998034343fcbf01b40f765be661d9a1ac299847114b33\r\n",
      "  Stored in directory: /root/.cache/pip/wheels/78/28/09/b62c97a3e77102645c7ecc78c97580ad57090b1eee5438d6ac\r\n",
      "Successfully built pygtrie\r\n",
      "Installing collected packages: pygtrie\r\n",
      "Successfully installed pygtrie-2.5.0\r\n",
      "Looking in links: ./\r\n",
      "Processing ./pyctcdecode/sortedcontainers-2.4.0-py2.py3-none-any.whl\r\n",
      "sortedcontainers is already installed with the same version as the provided wheel. Use --force-reinstall to force an installation of the wheel.\r\n",
      "Looking in links: ./\r\n",
      "Processing ./pyctcdecode/pyctcdecode-0.4.0-py2.py3-none-any.whl\r\n",
      "Installing collected packages: pyctcdecode\r\n",
      "Successfully installed pyctcdecode-0.4.0\r\n",
      "pypikenlm/\r\n",
      "pypikenlm/pypi-kenlm-0.1.20220713.tar.gz\r\n",
      "Looking in links: ./\r\n",
      "Processing ./pypikenlm/pypi-kenlm-0.1.20220713.tar.gz\r\n",
      "  Preparing metadata (setup.py) ... \u001b[?25ldone\r\n",
      "\u001b[?25hBuilding wheels for collected packages: pypi-kenlm\r\n",
      "  Building wheel for pypi-kenlm (setup.py) ... \u001b[?25l-\b \b\\\b \bdone\r\n",
      "\u001b[?25h  Created wheel for pypi-kenlm: filename=pypi_kenlm-0.1.20220713-cp310-cp310-linux_x86_64.whl size=333233 sha256=d466e9da9a9f58e7720f76050c8d6098d33884ad303362217bec1cc8b425fcac\r\n",
      "  Stored in directory: /root/.cache/pip/wheels/1e/7a/db/27645fac296d5d5ba5c461b1af834eebc0ba4643290dbc5476\r\n",
      "Successfully built pypi-kenlm\r\n",
      "Installing collected packages: pypi-kenlm\r\n",
      "Successfully installed pypi-kenlm-0.1.20220713\r\n",
      "Cloning into 'wav2vec2-xls-r-300m-bengali'...\r\n",
      "remote: Enumerating objects: 348, done.\u001b[K\r\n",
      "remote: Total 348 (delta 0), reused 0 (delta 0), pack-reused 348\u001b[K\r\n",
      "Receiving objects: 100% (348/348), 297.16 KiB | 12.92 MiB/s, done.\r\n",
      "Resolving deltas: 100% (120/120), done.\r\n",
      "Filtering content: 100% (4/4), 4.46 GiB | 101.42 MiB/s, done.\r\n"
     ]
    }
   ],
   "source": [
    "!cp -r ../input/python-packages2 ./\n",
    "\n",
    "!tar xvfz ./python-packages2/jiwer.tgz\n",
    "!pip install ./jiwer/jiwer-2.3.0-py3-none-any.whl -f ./ --no-index\n",
    "!tar xvfz ./python-packages2/normalizer.tgz\n",
    "!pip install ./normalizer/bnunicodenormalizer-0.0.24.tar.gz -f ./ --no-index\n",
    "!tar xvfz ./python-packages2/pyctcdecode.tgz\n",
    "!pip install ./pyctcdecode/attrs-22.1.0-py2.py3-none-any.whl -f ./ --no-index --no-deps\n",
    "!pip install ./pyctcdecode/exceptiongroup-1.0.0rc9-py3-none-any.whl -f ./ --no-index --no-deps\n",
    "!pip install ./pyctcdecode/hypothesis-6.54.4-py3-none-any.whl -f ./ --no-index --no-deps\n",
    "!pip install ./pyctcdecode/numpy-1.21.6-cp37-cp37m-manylinux_2_12_x86_64.manylinux2010_x86_64.whl -f ./ --no-index --no-deps\n",
    "!pip install ./pyctcdecode/pygtrie-2.5.0.tar.gz -f ./ --no-index --no-deps\n",
    "!pip install ./pyctcdecode/sortedcontainers-2.4.0-py2.py3-none-any.whl -f ./ --no-index --no-deps\n",
    "!pip install ./pyctcdecode/pyctcdecode-0.4.0-py2.py3-none-any.whl -f ./ --no-index --no-deps\n",
    "\n",
    "!tar xvfz ./python-packages2/pypikenlm.tgz\n",
    "!pip install ./pypikenlm/pypi-kenlm-0.1.20220713.tar.gz -f ./ --no-index --no-deps\n",
    "\n",
    "# !git clone https://huggingface.co/Umong/wav2vec2-large-mms-1b-bengali\n",
    "!git clone https://huggingface.co/arijitx/wav2vec2-xls-r-300m-bengali"
   ]
  },
  {
   "cell_type": "code",
   "execution_count": 2,
   "id": "317d0bad",
   "metadata": {
    "execution": {
     "iopub.execute_input": "2023-10-17T18:20:50.747561Z",
     "iopub.status.busy": "2023-10-17T18:20:50.746736Z",
     "iopub.status.idle": "2023-10-17T18:21:07.672189Z",
     "shell.execute_reply": "2023-10-17T18:21:07.671512Z"
    },
    "papermill": {
     "duration": 16.984391,
     "end_time": "2023-10-17T18:21:07.674007",
     "exception": false,
     "start_time": "2023-10-17T18:20:50.689616",
     "status": "completed"
    },
    "tags": []
   },
   "outputs": [
    {
     "name": "stderr",
     "output_type": "stream",
     "text": [
      "/opt/conda/lib/python3.10/site-packages/scipy/__init__.py:146: UserWarning: A NumPy version >=1.16.5 and <1.23.0 is required for this version of SciPy (detected version 1.23.5\n",
      "  warnings.warn(f\"A NumPy version >={np_minversion} and <{np_maxversion}\"\n"
     ]
    }
   ],
   "source": [
    "import torch \n",
    "import torch.nn as nn\n",
    "import torchaudio\n",
    "import torchaudio.transforms as tat\n",
    "from datasets import load_dataset, load_metric, Audio\n",
    "import os\n",
    "\n",
    "import typing as tp\n",
    "from pathlib import Path\n",
    "from functools import partial\n",
    "from dataclasses import dataclass, field\n",
    "from typing import Any, Dict, List, Optional, Union\n",
    "\n",
    "import pandas as pd\n",
    "import pyctcdecode\n",
    "import numpy as np\n",
    "from tqdm.notebook import tqdm\n",
    "\n",
    "import librosa\n",
    "import gc\n",
    "import jiwer\n",
    "import pyctcdecode\n",
    "import kenlm\n",
    "import torch\n",
    "from transformers import Wav2Vec2Processor, Wav2Vec2ProcessorWithLM, Wav2Vec2ForCTC\n",
    "from transformers import TrainingArguments, Trainer, EarlyStoppingCallback\n",
    "from bnunicodenormalizer import Normalizer\n",
    "import warnings\n",
    "warnings.filterwarnings('ignore')\n",
    "torchaudio.set_audio_backend(\"soundfile\")"
   ]
  },
  {
   "cell_type": "markdown",
   "id": "84bfa8cd",
   "metadata": {
    "papermill": {
     "duration": 0.007189,
     "end_time": "2023-10-17T18:21:07.688908",
     "exception": false,
     "start_time": "2023-10-17T18:21:07.681719",
     "status": "completed"
    },
    "tags": []
   },
   "source": [
    "# Config\n",
    "\n",
    "ファインチューニングをしたいモデルをMODEL_PATHに入力する。\n",
    "\n",
    "Input the model to MODEL_PATH to fine-tune"
   ]
  },
  {
   "cell_type": "code",
   "execution_count": 3,
   "id": "14403fdd",
   "metadata": {
    "execution": {
     "iopub.execute_input": "2023-10-17T18:21:07.704832Z",
     "iopub.status.busy": "2023-10-17T18:21:07.704582Z",
     "iopub.status.idle": "2023-10-17T18:21:07.708853Z",
     "shell.execute_reply": "2023-10-17T18:21:07.708242Z"
    },
    "papermill": {
     "duration": 0.014107,
     "end_time": "2023-10-17T18:21:07.710298",
     "exception": false,
     "start_time": "2023-10-17T18:21:07.696191",
     "status": "completed"
    },
    "tags": []
   },
   "outputs": [],
   "source": [
    "### hyper-parameters\n",
    "SR = 16000\n",
    "torch.backends.cudnn.benchmark = True\n",
    "output_dir = \"./\"\n",
    "MODEL_PATH = \"/kaggle/input/ai4bharat-indicwav2vec-v1-bengali/indicwav2vec_v1_bengali\"\n",
    "LM_PATH = \"/kaggle/input/arijitx-full-model/wav2vec2-xls-r-300m-bengali/language_model\""
   ]
  },
  {
   "cell_type": "code",
   "execution_count": 4,
   "id": "95493fd2",
   "metadata": {
    "execution": {
     "iopub.execute_input": "2023-10-17T18:21:07.725482Z",
     "iopub.status.busy": "2023-10-17T18:21:07.725125Z",
     "iopub.status.idle": "2023-10-17T18:21:45.356308Z",
     "shell.execute_reply": "2023-10-17T18:21:45.355537Z"
    },
    "papermill": {
     "duration": 37.640964,
     "end_time": "2023-10-17T18:21:45.358417",
     "exception": false,
     "start_time": "2023-10-17T18:21:07.717453",
     "status": "completed"
    },
    "tags": []
   },
   "outputs": [],
   "source": [
    "\"\"\"\n",
    "以下の処理は推論時と同じ\n",
    "\n",
    "same preprocess as inference\n",
    "\"\"\"\n",
    "\n",
    "processor = Wav2Vec2Processor.from_pretrained(MODEL_PATH)\n",
    "vocab_dict = processor.tokenizer.get_vocab()\n",
    "sorted_vocab_dict = {k: v for k, v in sorted(vocab_dict.items(), key=lambda item: item[1])}\n",
    "\n",
    "\n",
    "decoder = pyctcdecode.build_ctcdecoder(\n",
    "    list(sorted_vocab_dict.keys()),\n",
    "    str(LM_PATH+\"/5gram.bin\"),\n",
    "    str(LM_PATH+\"/unigrams.txt\"),\n",
    ")\n",
    "processor_with_lm = Wav2Vec2ProcessorWithLM(\n",
    "    feature_extractor=processor.feature_extractor,\n",
    "    tokenizer=processor.tokenizer,\n",
    "    decoder=decoder\n",
    ")"
   ]
  },
  {
   "cell_type": "markdown",
   "id": "e125ba46",
   "metadata": {
    "papermill": {
     "duration": 0.007031,
     "end_time": "2023-10-17T18:21:45.373346",
     "exception": false,
     "start_time": "2023-10-17T18:21:45.366315",
     "status": "completed"
    },
    "tags": []
   },
   "source": [
    "- From @mbmmurad's [Dataset overlaps with CommonVoice 11 bn](https://www.kaggle.com/code/mbmmurad/dataset-overlaps-with-commonvoice-11-bn), The competition dataset might contain the audios of the mozilla-foundation/common_voice_11_0 dataset. Here I just simply exclude them from the validation set.\n",
    "- Also, I use @UmongSain's normalized data [here](https://www.kaggle.com/code/umongsain/macro-normalization/notebook). Thanks to him!"
   ]
  },
  {
   "cell_type": "code",
   "execution_count": 5,
   "id": "caf70c71",
   "metadata": {
    "execution": {
     "iopub.execute_input": "2023-10-17T18:21:45.390937Z",
     "iopub.status.busy": "2023-10-17T18:21:45.390705Z",
     "iopub.status.idle": "2023-10-17T18:21:54.138158Z",
     "shell.execute_reply": "2023-10-17T18:21:54.137465Z"
    },
    "papermill": {
     "duration": 8.759205,
     "end_time": "2023-10-17T18:21:54.139975",
     "exception": false,
     "start_time": "2023-10-17T18:21:45.380770",
     "status": "completed"
    },
    "tags": []
   },
   "outputs": [],
   "source": [
    "sentences = pd.read_csv(\"/kaggle/input/macro-normalization/normalized.csv\")\n",
    "indexes = set(pd.read_csv(\"/kaggle/input/dataset-overlaps-with-commonvoice-11-bn/indexes.csv\")['id'])\n",
    "sentences = sentences[~((sentences.index.isin(indexes))&(sentences['split']=='train'))].reset_index(drop=True)\n",
    "\n",
    "sentences_train = pd.read_csv(\"/kaggle/input/common-voice-13-bengali-normalized/train.tsv\", sep=\"\\t\")\n",
    "sentences_valid = pd.read_csv(\"/kaggle/input/common-voice-13-bengali-normalized/dev.tsv\", sep=\"\\t\")"
   ]
  },
  {
   "cell_type": "markdown",
   "id": "ae33f82e",
   "metadata": {
    "papermill": {
     "duration": 0.00701,
     "end_time": "2023-10-17T18:21:54.154474",
     "exception": false,
     "start_time": "2023-10-17T18:21:54.147464",
     "status": "completed"
    },
    "tags": []
   },
   "source": [
    "* sample 10% data from \"valid\" part into validation set, 90% into training set.\n",
    "* sample 5% data from \"train\" part, and additionally sample 8% from it into validation set, 92% into training set.\n",
    "* There will be **57776** train data, **5667** valid data."
   ]
  },
  {
   "cell_type": "code",
   "execution_count": 6,
   "id": "651ac517",
   "metadata": {
    "execution": {
     "iopub.execute_input": "2023-10-17T18:21:54.169880Z",
     "iopub.status.busy": "2023-10-17T18:21:54.169627Z",
     "iopub.status.idle": "2023-10-17T18:21:54.513545Z",
     "shell.execute_reply": "2023-10-17T18:21:54.512828Z"
    },
    "papermill": {
     "duration": 0.353632,
     "end_time": "2023-10-17T18:21:54.515478",
     "exception": false,
     "start_time": "2023-10-17T18:21:54.161846",
     "status": "completed"
    },
    "tags": []
   },
   "outputs": [],
   "source": [
    "data_0 = sentences.loc[sentences['split']=='valid'].reset_index(drop=True)\n",
    "valid_0 = data_0.sample(frac=0.1, random_state=42)\n",
    "train_0 = data_0[~data_0.index.isin(valid_0.index)]\n",
    "\n",
    "\n",
    "data_1 = sentences.loc[sentences['split']=='train'].reset_index(drop=True).sample(frac=0.05, random_state=42)\n",
    "valid_1 = data_1.sample(frac=0.08, random_state=42)\n",
    "train_1 = data_1[~data_1.index.isin(valid_1.index)]\n",
    "\n",
    "train = pd.concat([train_0, train_1], axis=0).sample(frac=1, random_state=42).reset_index(drop=True)\n",
    "valid = pd.concat([valid_0, valid_1], axis=0).sample(frac=1, random_state=42).reset_index(drop=True)\n",
    "\n",
    "del data_0, data_1, valid_0, valid_1, train_0, train_1\n",
    "all_ids = sentences['id'].to_list()\n",
    "train_ids = train['id'].to_list()\n",
    "valid_ids = valid['id'].to_list()\n",
    "\n",
    "# in kaggle notebook, validating is very time-consuming, so here I use a very small validation set, rather than 5667.\n",
    "valid = valid.sample(n=500, random_state=42)"
   ]
  },
  {
   "cell_type": "code",
   "execution_count": 7,
   "id": "c0e474bf",
   "metadata": {
    "execution": {
     "iopub.execute_input": "2023-10-17T18:21:54.536888Z",
     "iopub.status.busy": "2023-10-17T18:21:54.536298Z",
     "iopub.status.idle": "2023-10-17T18:21:54.550996Z",
     "shell.execute_reply": "2023-10-17T18:21:54.550464Z"
    },
    "papermill": {
     "duration": 0.024796,
     "end_time": "2023-10-17T18:21:54.552442",
     "exception": false,
     "start_time": "2023-10-17T18:21:54.527646",
     "status": "completed"
    },
    "tags": []
   },
   "outputs": [
    {
     "data": {
      "text/html": [
       "<div>\n",
       "<style scoped>\n",
       "    .dataframe tbody tr th:only-of-type {\n",
       "        vertical-align: middle;\n",
       "    }\n",
       "\n",
       "    .dataframe tbody tr th {\n",
       "        vertical-align: top;\n",
       "    }\n",
       "\n",
       "    .dataframe thead th {\n",
       "        text-align: right;\n",
       "    }\n",
       "</style>\n",
       "<table border=\"1\" class=\"dataframe\">\n",
       "  <thead>\n",
       "    <tr style=\"text-align: right;\">\n",
       "      <th></th>\n",
       "      <th>id</th>\n",
       "      <th>sentence</th>\n",
       "      <th>split</th>\n",
       "      <th>normalized</th>\n",
       "    </tr>\n",
       "  </thead>\n",
       "  <tbody>\n",
       "    <tr>\n",
       "      <th>0</th>\n",
       "      <td>9dbe7798da58</td>\n",
       "      <td>কোন স্বামী তার স্ত্রী কে এভাবে একা একা ভ্রমন ক...</td>\n",
       "      <td>train</td>\n",
       "      <td>কোন স্বামী তার স্ত্রী কে এভাবে একা একা ভ্রমন ক...</td>\n",
       "    </tr>\n",
       "    <tr>\n",
       "      <th>1</th>\n",
       "      <td>5c4a86819491</td>\n",
       "      <td>সাসানীয় সাম্রাজ্যের আল হিরা শহর তার আকার ও সম...</td>\n",
       "      <td>valid</td>\n",
       "      <td>সাসানীয় সাম্রাজ্যের আল হিরা শহর তার আকার ও সম্...</td>\n",
       "    </tr>\n",
       "    <tr>\n",
       "      <th>2</th>\n",
       "      <td>f67e579732cf</td>\n",
       "      <td>অনিচ্ছা সত্ত্বেও তিনি তাঁর নির্দেশ মেনে নিলেন।</td>\n",
       "      <td>train</td>\n",
       "      <td>অনিচ্ছা সত্ত্বেও তিনি তাঁর নির্দেশ মেনে নিলেন।</td>\n",
       "    </tr>\n",
       "    <tr>\n",
       "      <th>3</th>\n",
       "      <td>0f4563a9c25c</td>\n",
       "      <td>এটি গাজীপুরে অবস্থিত।</td>\n",
       "      <td>valid</td>\n",
       "      <td>এটি গাজীপুরে অবস্থিত।</td>\n",
       "    </tr>\n",
       "    <tr>\n",
       "      <th>4</th>\n",
       "      <td>93e8f0d61eb9</td>\n",
       "      <td>প্রিয়তম আমার, কোথায় তুমি?</td>\n",
       "      <td>train</td>\n",
       "      <td>প্রিয়তম আমার, কোথায় তুমি?</td>\n",
       "    </tr>\n",
       "    <tr>\n",
       "      <th>...</th>\n",
       "      <td>...</td>\n",
       "      <td>...</td>\n",
       "      <td>...</td>\n",
       "      <td>...</td>\n",
       "    </tr>\n",
       "    <tr>\n",
       "      <th>57771</th>\n",
       "      <td>54e142740f48</td>\n",
       "      <td>আমার নাম ক্রেগ ম্যাটসন, আমি এনটিএসবি থেকে এসেছি।</td>\n",
       "      <td>train</td>\n",
       "      <td>আমার নাম ক্রেগ ম্যাটসন, আমি এনটিএসবি থেকে এসেছি।</td>\n",
       "    </tr>\n",
       "    <tr>\n",
       "      <th>57772</th>\n",
       "      <td>23720d98e711</td>\n",
       "      <td>বেশ, বলুন, আমি যাচ্ছি।</td>\n",
       "      <td>train</td>\n",
       "      <td>বেশ, বলুন, আমি যাচ্ছি।</td>\n",
       "    </tr>\n",
       "    <tr>\n",
       "      <th>57773</th>\n",
       "      <td>0808604daa8d</td>\n",
       "      <td>এটিএম উপলব্ধ</td>\n",
       "      <td>valid</td>\n",
       "      <td>এটিএম উপলব্ধ</td>\n",
       "    </tr>\n",
       "    <tr>\n",
       "      <th>57774</th>\n",
       "      <td>983f52bb2afa</td>\n",
       "      <td>প্রত্যেকটি অবতার সর্বোচ্চ সত্যের এক একটি স্তর।</td>\n",
       "      <td>valid</td>\n",
       "      <td>প্রত্যেকটি অবতার সর্বোচ্চ সত্যের এক একটি স্তর।</td>\n",
       "    </tr>\n",
       "    <tr>\n",
       "      <th>57775</th>\n",
       "      <td>1b035ffa1786</td>\n",
       "      <td>কিন্তু সেই ক্ষুধার আগুনে এসি মিলানকে শেষ পর্যন...</td>\n",
       "      <td>train</td>\n",
       "      <td>কিন্তু সেই ক্ষুধার আগুনে এসি মিলানকে শেষ পর্যন...</td>\n",
       "    </tr>\n",
       "  </tbody>\n",
       "</table>\n",
       "<p>57776 rows × 4 columns</p>\n",
       "</div>"
      ],
      "text/plain": [
       "                 id                                           sentence  split  \\\n",
       "0      9dbe7798da58  কোন স্বামী তার স্ত্রী কে এভাবে একা একা ভ্রমন ক...  train   \n",
       "1      5c4a86819491  সাসানীয় সাম্রাজ্যের আল হিরা শহর তার আকার ও সম...  valid   \n",
       "2      f67e579732cf     অনিচ্ছা সত্ত্বেও তিনি তাঁর নির্দেশ মেনে নিলেন।  train   \n",
       "3      0f4563a9c25c                              এটি গাজীপুরে অবস্থিত।  valid   \n",
       "4      93e8f0d61eb9                          প্রিয়তম আমার, কোথায় তুমি?  train   \n",
       "...             ...                                                ...    ...   \n",
       "57771  54e142740f48   আমার নাম ক্রেগ ম্যাটসন, আমি এনটিএসবি থেকে এসেছি।  train   \n",
       "57772  23720d98e711                             বেশ, বলুন, আমি যাচ্ছি।  train   \n",
       "57773  0808604daa8d                                       এটিএম উপলব্ধ  valid   \n",
       "57774  983f52bb2afa     প্রত্যেকটি অবতার সর্বোচ্চ সত্যের এক একটি স্তর।  valid   \n",
       "57775  1b035ffa1786  কিন্তু সেই ক্ষুধার আগুনে এসি মিলানকে শেষ পর্যন...  train   \n",
       "\n",
       "                                              normalized  \n",
       "0      কোন স্বামী তার স্ত্রী কে এভাবে একা একা ভ্রমন ক...  \n",
       "1      সাসানীয় সাম্রাজ্যের আল হিরা শহর তার আকার ও সম্...  \n",
       "2         অনিচ্ছা সত্ত্বেও তিনি তাঁর নির্দেশ মেনে নিলেন।  \n",
       "3                                  এটি গাজীপুরে অবস্থিত।  \n",
       "4                              প্রিয়তম আমার, কোথায় তুমি?  \n",
       "...                                                  ...  \n",
       "57771   আমার নাম ক্রেগ ম্যাটসন, আমি এনটিএসবি থেকে এসেছি।  \n",
       "57772                             বেশ, বলুন, আমি যাচ্ছি।  \n",
       "57773                                       এটিএম উপলব্ধ  \n",
       "57774     প্রত্যেকটি অবতার সর্বোচ্চ সত্যের এক একটি স্তর।  \n",
       "57775  কিন্তু সেই ক্ষুধার আগুনে এসি মিলানকে শেষ পর্যন...  \n",
       "\n",
       "[57776 rows x 4 columns]"
      ]
     },
     "execution_count": 7,
     "metadata": {},
     "output_type": "execute_result"
    }
   ],
   "source": [
    "train"
   ]
  },
  {
   "cell_type": "code",
   "execution_count": 8,
   "id": "ecc07e0f",
   "metadata": {
    "execution": {
     "iopub.execute_input": "2023-10-17T18:21:54.568748Z",
     "iopub.status.busy": "2023-10-17T18:21:54.568090Z",
     "iopub.status.idle": "2023-10-17T18:21:54.667193Z",
     "shell.execute_reply": "2023-10-17T18:21:54.666519Z"
    },
    "papermill": {
     "duration": 0.108916,
     "end_time": "2023-10-17T18:21:54.668979",
     "exception": false,
     "start_time": "2023-10-17T18:21:54.560063",
     "status": "completed"
    },
    "tags": []
   },
   "outputs": [],
   "source": [
    "df = train\n",
    "tem_pathes = train['id'].values\n",
    "sentences = train['sentence'].values\n",
    "\n",
    "exdf = sentences_train\n",
    "tem_expathes = sentences_train['path'].values\n",
    "exsentences = sentences_train['sentence'].values\n",
    "\n",
    "pathes = []\n",
    "for path in tem_pathes:\n",
    "    pathes.append(f'/kaggle/input/bengaliai-speech/train_mp3s/{path}.mp3')\n",
    "\n",
    "expathes = []\n",
    "for path in tem_expathes:\n",
    "    expathes.append(f'/kaggle/input/common-voice-13-bengali-normalized/train/{path}')\n"
   ]
  },
  {
   "cell_type": "code",
   "execution_count": 9,
   "id": "a61c2005",
   "metadata": {
    "execution": {
     "iopub.execute_input": "2023-10-17T18:21:54.685277Z",
     "iopub.status.busy": "2023-10-17T18:21:54.685022Z",
     "iopub.status.idle": "2023-10-17T18:21:54.709833Z",
     "shell.execute_reply": "2023-10-17T18:21:54.709031Z"
    },
    "papermill": {
     "duration": 0.035128,
     "end_time": "2023-10-17T18:21:54.711900",
     "exception": false,
     "start_time": "2023-10-17T18:21:54.676772",
     "status": "completed"
    },
    "tags": []
   },
   "outputs": [],
   "source": [
    "df1 = pd.DataFrame(columns = ['path', 'sentence'])\n",
    "df2 = pd.DataFrame(columns = ['path', 'sentence'])"
   ]
  },
  {
   "cell_type": "code",
   "execution_count": 10,
   "id": "0ef551da",
   "metadata": {
    "execution": {
     "iopub.execute_input": "2023-10-17T18:21:54.729308Z",
     "iopub.status.busy": "2023-10-17T18:21:54.729030Z",
     "iopub.status.idle": "2023-10-17T18:21:54.752590Z",
     "shell.execute_reply": "2023-10-17T18:21:54.751819Z"
    },
    "papermill": {
     "duration": 0.033505,
     "end_time": "2023-10-17T18:21:54.754072",
     "exception": false,
     "start_time": "2023-10-17T18:21:54.720567",
     "status": "completed"
    },
    "tags": []
   },
   "outputs": [],
   "source": [
    "df1['path'] = pathes\n",
    "df1['sentence'] = sentences\n",
    "df2['path'] = expathes\n",
    "df2['sentence'] = exsentences"
   ]
  },
  {
   "cell_type": "code",
   "execution_count": 11,
   "id": "c9c11afa",
   "metadata": {
    "execution": {
     "iopub.execute_input": "2023-10-17T18:21:54.770161Z",
     "iopub.status.busy": "2023-10-17T18:21:54.769937Z",
     "iopub.status.idle": "2023-10-17T18:21:54.781659Z",
     "shell.execute_reply": "2023-10-17T18:21:54.781108Z"
    },
    "papermill": {
     "duration": 0.021776,
     "end_time": "2023-10-17T18:21:54.783588",
     "exception": false,
     "start_time": "2023-10-17T18:21:54.761812",
     "status": "completed"
    },
    "tags": []
   },
   "outputs": [
    {
     "data": {
      "text/html": [
       "<div>\n",
       "<style scoped>\n",
       "    .dataframe tbody tr th:only-of-type {\n",
       "        vertical-align: middle;\n",
       "    }\n",
       "\n",
       "    .dataframe tbody tr th {\n",
       "        vertical-align: top;\n",
       "    }\n",
       "\n",
       "    .dataframe thead th {\n",
       "        text-align: right;\n",
       "    }\n",
       "</style>\n",
       "<table border=\"1\" class=\"dataframe\">\n",
       "  <thead>\n",
       "    <tr style=\"text-align: right;\">\n",
       "      <th></th>\n",
       "      <th>path</th>\n",
       "      <th>sentence</th>\n",
       "    </tr>\n",
       "  </thead>\n",
       "  <tbody>\n",
       "    <tr>\n",
       "      <th>0</th>\n",
       "      <td>/kaggle/input/bengaliai-speech/train_mp3s/9dbe...</td>\n",
       "      <td>কোন স্বামী তার স্ত্রী কে এভাবে একা একা ভ্রমন ক...</td>\n",
       "    </tr>\n",
       "    <tr>\n",
       "      <th>1</th>\n",
       "      <td>/kaggle/input/bengaliai-speech/train_mp3s/5c4a...</td>\n",
       "      <td>সাসানীয় সাম্রাজ্যের আল হিরা শহর তার আকার ও সম...</td>\n",
       "    </tr>\n",
       "    <tr>\n",
       "      <th>2</th>\n",
       "      <td>/kaggle/input/bengaliai-speech/train_mp3s/f67e...</td>\n",
       "      <td>অনিচ্ছা সত্ত্বেও তিনি তাঁর নির্দেশ মেনে নিলেন।</td>\n",
       "    </tr>\n",
       "    <tr>\n",
       "      <th>3</th>\n",
       "      <td>/kaggle/input/bengaliai-speech/train_mp3s/0f45...</td>\n",
       "      <td>এটি গাজীপুরে অবস্থিত।</td>\n",
       "    </tr>\n",
       "    <tr>\n",
       "      <th>4</th>\n",
       "      <td>/kaggle/input/bengaliai-speech/train_mp3s/93e8...</td>\n",
       "      <td>প্রিয়তম আমার, কোথায় তুমি?</td>\n",
       "    </tr>\n",
       "    <tr>\n",
       "      <th>...</th>\n",
       "      <td>...</td>\n",
       "      <td>...</td>\n",
       "    </tr>\n",
       "    <tr>\n",
       "      <th>78500</th>\n",
       "      <td>/kaggle/input/common-voice-13-bengali-normaliz...</td>\n",
       "      <td>তালিকায় ধনী ব্যক্তিদের নাম স্থান পেয়েছে কিন্তু...</td>\n",
       "    </tr>\n",
       "    <tr>\n",
       "      <th>78501</th>\n",
       "      <td>/kaggle/input/common-voice-13-bengali-normaliz...</td>\n",
       "      <td>ধানমন্ডির রবীন্দ্রসরোবরে ধানমন্ডি ক্লাবের আয়োজ...</td>\n",
       "    </tr>\n",
       "    <tr>\n",
       "      <th>78502</th>\n",
       "      <td>/kaggle/input/common-voice-13-bengali-normaliz...</td>\n",
       "      <td>সম্ভবত নিজের জন্য একটা ঘর খোঁজার সময় এসে গেছে ...</td>\n",
       "    </tr>\n",
       "    <tr>\n",
       "      <th>78503</th>\n",
       "      <td>/kaggle/input/common-voice-13-bengali-normaliz...</td>\n",
       "      <td>তিনি রূৎ ও আরভিং কোপেলম্যানের পুত্র</td>\n",
       "    </tr>\n",
       "    <tr>\n",
       "      <th>78504</th>\n",
       "      <td>/kaggle/input/common-voice-13-bengali-normaliz...</td>\n",
       "      <td>বড় স্ট্রিপের মতো টপারগুলি সাধারণত একই শিল্পী দ...</td>\n",
       "    </tr>\n",
       "  </tbody>\n",
       "</table>\n",
       "<p>78505 rows × 2 columns</p>\n",
       "</div>"
      ],
      "text/plain": [
       "                                                    path  \\\n",
       "0      /kaggle/input/bengaliai-speech/train_mp3s/9dbe...   \n",
       "1      /kaggle/input/bengaliai-speech/train_mp3s/5c4a...   \n",
       "2      /kaggle/input/bengaliai-speech/train_mp3s/f67e...   \n",
       "3      /kaggle/input/bengaliai-speech/train_mp3s/0f45...   \n",
       "4      /kaggle/input/bengaliai-speech/train_mp3s/93e8...   \n",
       "...                                                  ...   \n",
       "78500  /kaggle/input/common-voice-13-bengali-normaliz...   \n",
       "78501  /kaggle/input/common-voice-13-bengali-normaliz...   \n",
       "78502  /kaggle/input/common-voice-13-bengali-normaliz...   \n",
       "78503  /kaggle/input/common-voice-13-bengali-normaliz...   \n",
       "78504  /kaggle/input/common-voice-13-bengali-normaliz...   \n",
       "\n",
       "                                                sentence  \n",
       "0      কোন স্বামী তার স্ত্রী কে এভাবে একা একা ভ্রমন ক...  \n",
       "1      সাসানীয় সাম্রাজ্যের আল হিরা শহর তার আকার ও সম...  \n",
       "2         অনিচ্ছা সত্ত্বেও তিনি তাঁর নির্দেশ মেনে নিলেন।  \n",
       "3                                  এটি গাজীপুরে অবস্থিত।  \n",
       "4                              প্রিয়তম আমার, কোথায় তুমি?  \n",
       "...                                                  ...  \n",
       "78500  তালিকায় ধনী ব্যক্তিদের নাম স্থান পেয়েছে কিন্তু...  \n",
       "78501  ধানমন্ডির রবীন্দ্রসরোবরে ধানমন্ডি ক্লাবের আয়োজ...  \n",
       "78502  সম্ভবত নিজের জন্য একটা ঘর খোঁজার সময় এসে গেছে ...  \n",
       "78503                তিনি রূৎ ও আরভিং কোপেলম্যানের পুত্র  \n",
       "78504  বড় স্ট্রিপের মতো টপারগুলি সাধারণত একই শিল্পী দ...  \n",
       "\n",
       "[78505 rows x 2 columns]"
      ]
     },
     "execution_count": 11,
     "metadata": {},
     "output_type": "execute_result"
    }
   ],
   "source": [
    "traindf = pd.concat([df1, df2], axis = 0)\n",
    "traindf.reset_index(drop=True, inplace=True)\n",
    "traindf"
   ]
  },
  {
   "cell_type": "code",
   "execution_count": 12,
   "id": "583889a6",
   "metadata": {
    "execution": {
     "iopub.execute_input": "2023-10-17T18:21:54.800381Z",
     "iopub.status.busy": "2023-10-17T18:21:54.799768Z",
     "iopub.status.idle": "2023-10-17T18:21:54.805691Z",
     "shell.execute_reply": "2023-10-17T18:21:54.805149Z"
    },
    "papermill": {
     "duration": 0.015335,
     "end_time": "2023-10-17T18:21:54.807080",
     "exception": false,
     "start_time": "2023-10-17T18:21:54.791745",
     "status": "completed"
    },
    "tags": []
   },
   "outputs": [
    {
     "data": {
      "text/plain": [
       "path        /kaggle/input/common-voice-13-bengali-normaliz...\n",
       "sentence    এখানে কাবুলের দ্য বক্সিং গার্লস চলচ্চিত্রটিতে ...\n",
       "Name: 64949, dtype: object"
      ]
     },
     "execution_count": 12,
     "metadata": {},
     "output_type": "execute_result"
    }
   ],
   "source": [
    "traindf.iloc[64949]"
   ]
  },
  {
   "cell_type": "code",
   "execution_count": 13,
   "id": "a7dc038a",
   "metadata": {
    "execution": {
     "iopub.execute_input": "2023-10-17T18:21:54.823494Z",
     "iopub.status.busy": "2023-10-17T18:21:54.823127Z",
     "iopub.status.idle": "2023-10-17T18:21:54.947136Z",
     "shell.execute_reply": "2023-10-17T18:21:54.945435Z"
    },
    "papermill": {
     "duration": 0.135669,
     "end_time": "2023-10-17T18:21:54.950385",
     "exception": false,
     "start_time": "2023-10-17T18:21:54.814716",
     "status": "completed"
    },
    "tags": []
   },
   "outputs": [],
   "source": [
    "class W2v2DatasetTrain(torch.utils.data.Dataset):\n",
    "    def __init__(self, df):\n",
    "        self.df = df\n",
    "        self.pathes = df['path']\n",
    "        self.sentences = df['sentence']\n",
    "        self.resampler = tat.Resample(32000, SR)\n",
    "\n",
    "    def __getitem__(self, idx):\n",
    "\n",
    "        awaveform, asample_rate = torchaudio.load(self.pathes[idx], format=\"mp3\")\n",
    "        waveform = self.resampler(awaveform)\n",
    "        batch = dict()\n",
    "        y = processor(waveform.reshape(-1), sampling_rate=SR).input_values[0] \n",
    "        batch[\"input_values\"] = y\n",
    "        with processor.as_target_processor():\n",
    "            batch[\"labels\"] = processor(self.sentences[idx]).input_ids       \n",
    "        \n",
    "        return batch\n",
    "\n",
    "    def __len__(self):\n",
    "        return len(self.df)\n",
    "    \n",
    "class W2v2DatasetValid(torch.utils.data.Dataset):\n",
    "    def __init__(self, df):\n",
    "        self.df = df\n",
    "        self.pathes = df['id'].values\n",
    "        self.sentences = df['normalized'].values\n",
    "        self.resampler = tat.Resample(32000, SR)\n",
    "\n",
    "    def __getitem__(self, idx):\n",
    "        apath = f'/kaggle/input/bengaliai-speech/train_mp3s/{self.pathes[idx]}.mp3'\n",
    "        waveform, sample_rate = torchaudio.load(apath, format=\"mp3\")\n",
    "        waveform = self.resampler(waveform)\n",
    "        batch = dict()\n",
    "        y = processor(waveform.reshape(-1), sampling_rate=SR).input_values[0] \n",
    "        batch[\"input_values\"] = y\n",
    "        with processor.as_target_processor():\n",
    "            batch[\"labels\"] = processor(self.sentences[idx]).input_ids       \n",
    "        \n",
    "        return batch\n",
    "\n",
    "    def __len__(self):\n",
    "        return len(self.df)\n",
    "\n",
    "train_dataset = W2v2DatasetTrain(traindf)\n",
    "valid_dataset = W2v2DatasetValid(valid)"
   ]
  },
  {
   "cell_type": "code",
   "execution_count": 14,
   "id": "0dd58afc",
   "metadata": {
    "execution": {
     "iopub.execute_input": "2023-10-17T18:21:55.025139Z",
     "iopub.status.busy": "2023-10-17T18:21:55.024440Z",
     "iopub.status.idle": "2023-10-17T18:21:55.029028Z",
     "shell.execute_reply": "2023-10-17T18:21:55.028485Z"
    },
    "papermill": {
     "duration": 0.01565,
     "end_time": "2023-10-17T18:21:55.030569",
     "exception": false,
     "start_time": "2023-10-17T18:21:55.014919",
     "status": "completed"
    },
    "tags": []
   },
   "outputs": [
    {
     "data": {
      "text/plain": [
       "<__main__.W2v2DatasetTrain at 0x7889906265f0>"
      ]
     },
     "execution_count": 14,
     "metadata": {},
     "output_type": "execute_result"
    }
   ],
   "source": [
    "train_dataset"
   ]
  },
  {
   "cell_type": "code",
   "execution_count": 15,
   "id": "d8039125",
   "metadata": {
    "execution": {
     "iopub.execute_input": "2023-10-17T18:21:55.048679Z",
     "iopub.status.busy": "2023-10-17T18:21:55.048041Z",
     "iopub.status.idle": "2023-10-17T18:21:55.052926Z",
     "shell.execute_reply": "2023-10-17T18:21:55.052226Z"
    },
    "papermill": {
     "duration": 0.015384,
     "end_time": "2023-10-17T18:21:55.054429",
     "exception": false,
     "start_time": "2023-10-17T18:21:55.039045",
     "status": "completed"
    },
    "tags": []
   },
   "outputs": [
    {
     "data": {
      "text/plain": [
       "array(['/kaggle/input/bengaliai-speech/train_mp3s/9dbe7798da58.mp3',\n",
       "       '/kaggle/input/bengaliai-speech/train_mp3s/5c4a86819491.mp3',\n",
       "       '/kaggle/input/bengaliai-speech/train_mp3s/f67e579732cf.mp3', ...,\n",
       "       '/kaggle/input/common-voice-13-bengali-normalized/train/common_voice_bn_36306533.mp3',\n",
       "       '/kaggle/input/common-voice-13-bengali-normalized/train/common_voice_bn_36722427.mp3',\n",
       "       '/kaggle/input/common-voice-13-bengali-normalized/train/common_voice_bn_36906228.mp3'],\n",
       "      dtype=object)"
      ]
     },
     "execution_count": 15,
     "metadata": {},
     "output_type": "execute_result"
    }
   ],
   "source": [
    "traindf['path'].values"
   ]
  },
  {
   "cell_type": "code",
   "execution_count": 19,
   "id": "3750014b",
   "metadata": {
    "execution": {
     "iopub.execute_input": "2023-10-17T18:21:55.135526Z",
     "iopub.status.busy": "2023-10-17T18:21:55.135126Z",
     "iopub.status.idle": "2023-10-17T18:21:55.142916Z",
     "shell.execute_reply": "2023-10-17T18:21:55.142309Z"
    },
    "papermill": {
     "duration": 0.01766,
     "end_time": "2023-10-17T18:21:55.144303",
     "exception": false,
     "start_time": "2023-10-17T18:21:55.126643",
     "status": "completed"
    },
    "tags": []
   },
   "outputs": [],
   "source": [
    "@dataclass\n",
    "class DataCollatorCTCWithPadding:\n",
    "    \"\"\"\n",
    "    Data collator that will dynamically pad the inputs received.\n",
    "    Args:\n",
    "        processor (:class:`~transformers.Wav2Vec2Processor`)\n",
    "            The processor used for proccessing the data.\n",
    "        padding (:obj:`bool`, :obj:`str` or :class:`~transformers.tokenization_utils_base.PaddingStrategy`, `optional`, defaults to :obj:`True`):\n",
    "            Select a strategy to pad the returned sequences (according to the model's padding side and padding index)\n",
    "            among:\n",
    "            * :obj:`True` or :obj:`'longest'`: Pad to the longest sequence in the batch (or no padding if only a single\n",
    "              sequence if provided).\n",
    "            * :obj:`'max_length'`: Pad to a maximum length specified with the argument :obj:`max_length` or to the\n",
    "              maximum acceptable input length for the model if that argument is not provided.\n",
    "            * :obj:`False` or :obj:`'do_not_pad'` (default): No padding (i.e., can output a batch with sequences of\n",
    "              different lengths).\n",
    "        max_length (:obj:`int`, `optional`):\n",
    "            Maximum length of the ``input_values`` of the returned list and optionally padding length (see above).\n",
    "        max_length_labels (:obj:`int`, `optional`):\n",
    "            Maximum length of the ``labels`` returned list and optionally padding length (see above).\n",
    "        pad_to_multiple_of (:obj:`int`, `optional`):\n",
    "            If set will pad the sequence to a multiple of the provided value.\n",
    "            This is especially useful to enable the use of Tensor Cores on NVIDIA hardware with compute capability >=\n",
    "            7.5 (Volta).\n",
    "    \"\"\"\n",
    "\n",
    "    processor: Wav2Vec2Processor\n",
    "    padding: Union[bool, str] = True\n",
    "    max_length: Optional[int] = None\n",
    "    max_length_labels: Optional[int] = None\n",
    "    pad_to_multiple_of: Optional[int] = None\n",
    "    pad_to_multiple_of_labels: Optional[int] = None\n",
    "\n",
    "    def __call__(self, features: List[Dict[str, Union[List[int], torch.Tensor]]]) -> Dict[str, torch.Tensor]:\n",
    "        # split inputs and labels since they have to be of different lenghts and need\n",
    "        # different padding methods\n",
    "        input_features = [{\"input_values\": feature[\"input_values\"]} for feature in features]\n",
    "        label_features = [{\"input_ids\": feature[\"labels\"]} for feature in features]\n",
    "\n",
    "        batch = self.processor.pad(\n",
    "            input_features,\n",
    "            padding=self.padding,\n",
    "            max_length=self.max_length,\n",
    "            pad_to_multiple_of=self.pad_to_multiple_of,\n",
    "            return_tensors=\"pt\",\n",
    "        )\n",
    "        with self.processor.as_target_processor():\n",
    "            labels_batch = self.processor.pad(\n",
    "                label_features,\n",
    "                padding=self.padding,\n",
    "                max_length=self.max_length_labels,\n",
    "                pad_to_multiple_of=self.pad_to_multiple_of_labels,\n",
    "                return_tensors=\"pt\",\n",
    "            )\n",
    "\n",
    "        # replace padding with -100 to ignore loss correctly\n",
    "        labels = labels_batch[\"input_ids\"].masked_fill(labels_batch.attention_mask.ne(1), -100)\n",
    "\n",
    "        batch[\"labels\"] = labels\n",
    "\n",
    "        return batch"
   ]
  },
  {
   "cell_type": "code",
   "execution_count": 20,
   "id": "68cdab78",
   "metadata": {
    "execution": {
     "iopub.execute_input": "2023-10-17T18:21:55.160883Z",
     "iopub.status.busy": "2023-10-17T18:21:55.160326Z",
     "iopub.status.idle": "2023-10-17T18:21:55.163543Z",
     "shell.execute_reply": "2023-10-17T18:21:55.162940Z"
    },
    "papermill": {
     "duration": 0.013003,
     "end_time": "2023-10-17T18:21:55.164922",
     "exception": false,
     "start_time": "2023-10-17T18:21:55.151919",
     "status": "completed"
    },
    "tags": []
   },
   "outputs": [],
   "source": [
    "data_collator = DataCollatorCTCWithPadding(processor=processor, padding=True)"
   ]
  },
  {
   "cell_type": "code",
   "execution_count": 21,
   "id": "77b0c181",
   "metadata": {
    "execution": {
     "iopub.execute_input": "2023-10-17T18:21:55.196690Z",
     "iopub.status.busy": "2023-10-17T18:21:55.196233Z",
     "iopub.status.idle": "2023-10-17T18:21:55.201261Z",
     "shell.execute_reply": "2023-10-17T18:21:55.200698Z"
    },
    "papermill": {
     "duration": 0.014658,
     "end_time": "2023-10-17T18:21:55.202645",
     "exception": false,
     "start_time": "2023-10-17T18:21:55.187987",
     "status": "completed"
    },
    "tags": []
   },
   "outputs": [],
   "source": [
    "wer_metric = load_metric(\"wer\")\n",
    "\n",
    "def compute_metrics(pred):\n",
    "    pred_logits = pred.predictions\n",
    "    pred_ids = np.argmax(pred_logits, axis=-1)\n",
    "\n",
    "    pred.label_ids[pred.label_ids == -100] = processor.tokenizer.pad_token_id\n",
    "\n",
    "    pred_str = processor.batch_decode(pred_ids)\n",
    "    # we do not want to group tokens when computing the metrics\n",
    "    label_str = processor.batch_decode(pred.label_ids, group_tokens=False)\n",
    "\n",
    "    wer = wer_metric.compute(predictions=pred_str, references=label_str)\n",
    "\n",
    "    return {\"wer\": wer}"
   ]
  },
  {
   "cell_type": "code",
   "execution_count": 22,
   "id": "c05b1dd5",
   "metadata": {
    "execution": {
     "iopub.execute_input": "2023-10-17T18:21:55.219224Z",
     "iopub.status.busy": "2023-10-17T18:21:55.219017Z",
     "iopub.status.idle": "2023-10-17T18:22:07.679564Z",
     "shell.execute_reply": "2023-10-17T18:22:07.678804Z"
    },
    "papermill": {
     "duration": 12.471018,
     "end_time": "2023-10-17T18:22:07.681557",
     "exception": false,
     "start_time": "2023-10-17T18:21:55.210539",
     "status": "completed"
    },
    "tags": []
   },
   "outputs": [],
   "source": [
    "model = Wav2Vec2ForCTC.from_pretrained(\n",
    "    MODEL_PATH,\n",
    "    attention_dropout=0.1,\n",
    "    hidden_dropout=0.1,\n",
    "    feat_proj_dropout=0.0,\n",
    "    mask_time_prob=0.05,\n",
    "    layerdrop=0.1,\n",
    "    #gradient_checkpointing=True, \n",
    "    ctc_loss_reduction=\"mean\", \n",
    "    pad_token_id=processor.tokenizer.pad_token_id,\n",
    "    vocab_size=len(processor.tokenizer),\n",
    "    ctc_zero_infinity=True,\n",
    "    diversity_loss_weight=100 \n",
    ")"
   ]
  },
  {
   "cell_type": "code",
   "execution_count": 23,
   "id": "446fea08",
   "metadata": {
    "execution": {
     "iopub.execute_input": "2023-10-17T18:22:07.698955Z",
     "iopub.status.busy": "2023-10-17T18:22:07.698702Z",
     "iopub.status.idle": "2023-10-17T18:22:07.701971Z",
     "shell.execute_reply": "2023-10-17T18:22:07.701466Z"
    },
    "papermill": {
     "duration": 0.013567,
     "end_time": "2023-10-17T18:22:07.703584",
     "exception": false,
     "start_time": "2023-10-17T18:22:07.690017",
     "status": "completed"
    },
    "tags": []
   },
   "outputs": [],
   "source": [
    "# you can freeze some params\n",
    "model.freeze_feature_extractor()\n",
    "#model.freeze_feature_encoder()"
   ]
  },
  {
   "cell_type": "markdown",
   "id": "5b5bef59",
   "metadata": {
    "papermill": {
     "duration": 0.00765,
     "end_time": "2023-10-17T18:22:07.719132",
     "exception": false,
     "start_time": "2023-10-17T18:22:07.711482",
     "status": "completed"
    },
    "tags": []
   },
   "source": [
    "- As a demo, \"**num_train_epochs**\", \"**eval_steps**\" and \"**early_stopping_patience**\" are set to very small values, you can make them larger.\n",
    "- If there is no error about jiwer, you can set **metric_for_best_model**=\"wer\", and remember to set **greater_is_better**=False and use **compute_metrics**."
   ]
  },
  {
   "cell_type": "code",
   "execution_count": 24,
   "id": "2fdb1483",
   "metadata": {
    "execution": {
     "iopub.execute_input": "2023-10-17T18:22:07.736512Z",
     "iopub.status.busy": "2023-10-17T18:22:07.735892Z",
     "iopub.status.idle": "2023-10-17T18:22:07.852221Z",
     "shell.execute_reply": "2023-10-17T18:22:07.851515Z"
    },
    "papermill": {
     "duration": 0.127006,
     "end_time": "2023-10-17T18:22:07.854096",
     "exception": false,
     "start_time": "2023-10-17T18:22:07.727090",
     "status": "completed"
    },
    "tags": []
   },
   "outputs": [],
   "source": [
    "training_args = TrainingArguments(\n",
    "    output_dir=output_dir,\n",
    "    overwrite_output_dir=True,\n",
    "    group_by_length=False,\n",
    "    lr_scheduler_type='cosine',\n",
    "    weight_decay=0.01,\n",
    "    per_device_train_batch_size=4,\n",
    "    per_device_eval_batch_size=16,\n",
    "    gradient_accumulation_steps=1,\n",
    "    evaluation_strategy=\"steps\",\n",
    "    save_strategy=\"steps\",\n",
    "#     max_steps=100, \n",
    "    num_train_epochs = 15,\n",
    "    fp16=True,\n",
    "    save_steps=20,\n",
    "    eval_steps=20,\n",
    "    logging_steps=5000,\n",
    "    learning_rate=1e-4,\n",
    "    warmup_steps=600,\n",
    "    save_total_limit=1,\n",
    "    load_best_model_at_end=True,\n",
    "    #metric_for_best_model=\"wer\",\n",
    "    #greater_is_better=False,\n",
    "    prediction_loss_only=False,\n",
    "    auto_find_batch_size=True,\n",
    "    report_to=\"none\"\n",
    ")"
   ]
  },
  {
   "cell_type": "code",
   "execution_count": 25,
   "id": "84a81a15",
   "metadata": {
    "execution": {
     "iopub.execute_input": "2023-10-17T18:22:07.872819Z",
     "iopub.status.busy": "2023-10-17T18:22:07.872175Z",
     "iopub.status.idle": "2023-10-17T18:22:13.441313Z",
     "shell.execute_reply": "2023-10-17T18:22:13.440593Z"
    },
    "papermill": {
     "duration": 5.580298,
     "end_time": "2023-10-17T18:22:13.443109",
     "exception": false,
     "start_time": "2023-10-17T18:22:07.862811",
     "status": "completed"
    },
    "tags": []
   },
   "outputs": [],
   "source": [
    "trainer = Trainer(\n",
    "    model=model,\n",
    "    data_collator=data_collator,\n",
    "    args=training_args,\n",
    "    #compute_metrics=compute_metrics,\n",
    "    train_dataset=train_dataset,\n",
    "    eval_dataset=valid_dataset,\n",
    "    tokenizer=processor.feature_extractor,\n",
    "    callbacks=[EarlyStoppingCallback(early_stopping_patience=1)],\n",
    ")"
   ]
  },
  {
   "cell_type": "code",
   "execution_count": 26,
   "id": "5b0e2fdf",
   "metadata": {
    "execution": {
     "iopub.execute_input": "2023-10-17T18:22:13.462662Z",
     "iopub.status.busy": "2023-10-17T18:22:13.462165Z",
     "iopub.status.idle": "2023-10-17T18:49:58.895149Z",
     "shell.execute_reply": "2023-10-17T18:49:58.894103Z"
    },
    "papermill": {
     "duration": 1665.445524,
     "end_time": "2023-10-17T18:49:58.898303",
     "exception": false,
     "start_time": "2023-10-17T18:22:13.452779",
     "status": "completed"
    },
    "tags": []
   },
   "outputs": [
    {
     "data": {
      "text/html": [
       "\n",
       "    <div>\n",
       "      \n",
       "      <progress value='320' max='147210' style='width:300px; height:20px; vertical-align: middle;'></progress>\n",
       "      [   320/147210 27:28 < 211:28:35, 0.19 it/s, Epoch 0/15]\n",
       "    </div>\n",
       "    <table border=\"1\" class=\"dataframe\">\n",
       "  <thead>\n",
       " <tr style=\"text-align: left;\">\n",
       "      <th>Step</th>\n",
       "      <th>Training Loss</th>\n",
       "      <th>Validation Loss</th>\n",
       "    </tr>\n",
       "  </thead>\n",
       "  <tbody>\n",
       "    <tr>\n",
       "      <td>20</td>\n",
       "      <td>No log</td>\n",
       "      <td>2.554973</td>\n",
       "    </tr>\n",
       "    <tr>\n",
       "      <td>40</td>\n",
       "      <td>No log</td>\n",
       "      <td>2.436446</td>\n",
       "    </tr>\n",
       "    <tr>\n",
       "      <td>60</td>\n",
       "      <td>No log</td>\n",
       "      <td>2.254415</td>\n",
       "    </tr>\n",
       "    <tr>\n",
       "      <td>80</td>\n",
       "      <td>No log</td>\n",
       "      <td>2.020762</td>\n",
       "    </tr>\n",
       "    <tr>\n",
       "      <td>100</td>\n",
       "      <td>No log</td>\n",
       "      <td>1.779854</td>\n",
       "    </tr>\n",
       "    <tr>\n",
       "      <td>120</td>\n",
       "      <td>No log</td>\n",
       "      <td>1.596999</td>\n",
       "    </tr>\n",
       "    <tr>\n",
       "      <td>140</td>\n",
       "      <td>No log</td>\n",
       "      <td>1.459061</td>\n",
       "    </tr>\n",
       "    <tr>\n",
       "      <td>160</td>\n",
       "      <td>No log</td>\n",
       "      <td>1.358571</td>\n",
       "    </tr>\n",
       "    <tr>\n",
       "      <td>180</td>\n",
       "      <td>No log</td>\n",
       "      <td>1.283637</td>\n",
       "    </tr>\n",
       "    <tr>\n",
       "      <td>200</td>\n",
       "      <td>No log</td>\n",
       "      <td>1.184237</td>\n",
       "    </tr>\n",
       "    <tr>\n",
       "      <td>220</td>\n",
       "      <td>No log</td>\n",
       "      <td>1.135116</td>\n",
       "    </tr>\n",
       "    <tr>\n",
       "      <td>240</td>\n",
       "      <td>No log</td>\n",
       "      <td>1.087074</td>\n",
       "    </tr>\n",
       "    <tr>\n",
       "      <td>260</td>\n",
       "      <td>No log</td>\n",
       "      <td>1.053776</td>\n",
       "    </tr>\n",
       "    <tr>\n",
       "      <td>280</td>\n",
       "      <td>No log</td>\n",
       "      <td>1.003372</td>\n",
       "    </tr>\n",
       "    <tr>\n",
       "      <td>300</td>\n",
       "      <td>No log</td>\n",
       "      <td>0.986204</td>\n",
       "    </tr>\n",
       "    <tr>\n",
       "      <td>320</td>\n",
       "      <td>No log</td>\n",
       "      <td>0.997961</td>\n",
       "    </tr>\n",
       "  </tbody>\n",
       "</table><p>"
      ],
      "text/plain": [
       "<IPython.core.display.HTML object>"
      ]
     },
     "metadata": {},
     "output_type": "display_data"
    }
   ],
   "source": [
    "trainer.train()\n",
    "trainer.save_model(output_dir)"
   ]
  },
  {
   "cell_type": "markdown",
   "id": "9b7298c8",
   "metadata": {
    "papermill": {
     "duration": 0.035421,
     "end_time": "2023-10-17T18:49:58.958286",
     "exception": false,
     "start_time": "2023-10-17T18:49:58.922865",
     "status": "completed"
    },
    "tags": []
   },
   "source": [
    "- To improve scores you can: \n",
    "    * use different pretrained models\n",
    "    * alter the parameters\n",
    "    * choose more data\n",
    "    * filter data in another way."
   ]
  }
 ],
 "metadata": {
  "kernelspec": {
   "display_name": "Python 3",
   "language": "python",
   "name": "python3"
  },
  "language_info": {
   "codemirror_mode": {
    "name": "ipython",
    "version": 3
   },
   "file_extension": ".py",
   "mimetype": "text/x-python",
   "name": "python",
   "nbconvert_exporter": "python",
   "pygments_lexer": "ipython3",
   "version": "3.10.12"
  },
  "papermill": {
   "default_parameters": {},
   "duration": 1865.112742,
   "end_time": "2023-10-17T18:50:03.204231",
   "environment_variables": {},
   "exception": null,
   "input_path": "__notebook__.ipynb",
   "output_path": "__notebook__.ipynb",
   "parameters": {},
   "start_time": "2023-10-17T18:18:58.091489",
   "version": "2.4.0"
  }
 },
 "nbformat": 4,
 "nbformat_minor": 5
}
